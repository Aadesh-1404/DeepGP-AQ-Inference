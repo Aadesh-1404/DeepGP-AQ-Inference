{
 "cells": [
  {
   "cell_type": "markdown",
   "metadata": {},
   "source": [
    "# BoTorch-MODEL"
   ]
  },
  {
   "cell_type": "code",
   "execution_count": 1,
   "metadata": {},
   "outputs": [],
   "source": [
    "DATA = \"march_nsgp\" # or \"prev\""
   ]
  },
  {
   "cell_type": "markdown",
   "metadata": {},
   "source": [
    "- python train.py [Fold] [Kernel] [Random_state] [DATA] \n",
    "\n",
    "- python test.py [Fold] [Kernel] [Best-Model-Path] [DATA] \n",
    "\n",
    "\n",
    "# RBF"
   ]
  },
  {
   "cell_type": "code",
   "execution_count": 2,
   "metadata": {
    "scrolled": true
   },
   "outputs": [
    {
     "name": "stdout",
     "output_type": "stream",
     "text": [
      "Fold:  0\n",
      "Random State:  0\n",
      "Number of devices: 2 -- Kernel partition size: 0\n",
      "100%|█████████████████████████████████████████████| 1/1 [00:18<00:00, 18.33s/it]\n",
      "100%|█████████████████████████████████████████| 400/400 [00:53<00:00,  7.43it/s]\n",
      "Loss:  41.55955505371094\n",
      "RMSE:  25.82422764106294\n",
      "Fold:  0\n",
      "Random State:  1\n",
      "Number of devices: 2 -- Kernel partition size: 0\n",
      "100%|█████████████████████████████████████████████| 1/1 [00:18<00:00, 18.41s/it]\n",
      "100%|█████████████████████████████████████████| 400/400 [00:54<00:00,  7.32it/s]\n",
      "Loss:  57.43497085571289\n",
      "RMSE:  25.808171148286824\n",
      "Fold:  0\n",
      "Random State:  2\n",
      "Number of devices: 2 -- Kernel partition size: 0\n",
      "100%|█████████████████████████████████████████████| 1/1 [00:18<00:00, 18.45s/it]\n",
      "100%|█████████████████████████████████████████| 400/400 [00:54<00:00,  7.34it/s]\n",
      "Loss:  48.816162109375\n",
      "RMSE:  25.676222221986468\n",
      "Fold:  0\n",
      "Random State:  3\n",
      "Number of devices: 2 -- Kernel partition size: 0\n",
      "100%|█████████████████████████████████████████████| 1/1 [00:18<00:00, 18.38s/it]\n",
      "100%|█████████████████████████████████████████| 400/400 [00:54<00:00,  7.40it/s]\n",
      "Loss:  48.859222412109375\n",
      "RMSE:  25.610424185344673\n",
      "Fold:  0\n",
      "Random State:  4\n",
      "Number of devices: 2 -- Kernel partition size: 0\n",
      "100%|█████████████████████████████████████████████| 1/1 [00:18<00:00, 18.61s/it]\n",
      "100%|█████████████████████████████████████████| 400/400 [00:53<00:00,  7.43it/s]\n",
      "Loss:  69.66155242919922\n",
      "RMSE:  25.765846003013827\n",
      "Fold:  0\n",
      "Random State:  5\n",
      "Number of devices: 2 -- Kernel partition size: 0\n",
      "100%|█████████████████████████████████████████████| 1/1 [00:18<00:00, 18.63s/it]\n",
      "100%|█████████████████████████████████████████| 400/400 [00:53<00:00,  7.42it/s]\n",
      "Loss:  49.88604736328125\n",
      "RMSE:  25.5094288264401\n",
      "Fold:  0\n",
      "Random State:  6\n",
      "Number of devices: 2 -- Kernel partition size: 0\n",
      "100%|█████████████████████████████████████████████| 1/1 [00:18<00:00, 18.35s/it]\n",
      "100%|█████████████████████████████████████████| 400/400 [00:53<00:00,  7.42it/s]\n",
      "Loss:  45.57201385498047\n",
      "RMSE:  25.720190960169635\n",
      "Fold:  0\n",
      "Random State:  7\n",
      "Number of devices: 2 -- Kernel partition size: 0\n",
      "100%|█████████████████████████████████████████████| 1/1 [00:18<00:00, 18.41s/it]\n",
      "100%|█████████████████████████████████████████| 400/400 [00:53<00:00,  7.44it/s]\n",
      "Loss:  48.39948272705078\n",
      "RMSE:  25.669069662914495\n",
      "Fold:  0\n",
      "Random State:  8\n",
      "Number of devices: 2 -- Kernel partition size: 0\n",
      "100%|█████████████████████████████████████████████| 1/1 [00:18<00:00, 18.64s/it]\n",
      "100%|█████████████████████████████████████████| 400/400 [00:53<00:00,  7.43it/s]\n",
      "Loss:  52.91533279418945\n",
      "RMSE:  26.077870221369402\n",
      "Fold:  0\n",
      "Random State:  9\n",
      "Number of devices: 2 -- Kernel partition size: 0\n",
      "100%|█████████████████████████████████████████████| 1/1 [00:18<00:00, 18.81s/it]\n",
      "100%|█████████████████████████████████████████| 400/400 [00:54<00:00,  7.39it/s]\n",
      "Loss:  48.26072311401367\n",
      "RMSE:  25.644388407229037\n"
     ]
    }
   ],
   "source": [
    "for i in range(10):\n",
    "    !python train_ngpu.py 0 rbf {i} {DATA}"
   ]
  },
  {
   "cell_type": "code",
   "execution_count": 3,
   "metadata": {
    "scrolled": true
   },
   "outputs": [
    {
     "name": "stdout",
     "output_type": "stream",
     "text": [
      "Traceback (most recent call last):\n",
      "  File \"/home/sachin.yadav/DeepGP-ML-Project/stat_gp_cat/train.py\", line 9, in <module>\n",
      "    from early_stopping_pytorch.pytorchtools import EarlyStopping\n",
      "ModuleNotFoundError: No module named 'early_stopping_pytorch'\n",
      "Traceback (most recent call last):\n",
      "  File \"/home/sachin.yadav/DeepGP-ML-Project/stat_gp_cat/train.py\", line 9, in <module>\n",
      "    from early_stopping_pytorch.pytorchtools import EarlyStopping\n",
      "ModuleNotFoundError: No module named 'early_stopping_pytorch'\n",
      "Traceback (most recent call last):\n",
      "  File \"/home/sachin.yadav/DeepGP-ML-Project/stat_gp_cat/train.py\", line 9, in <module>\n",
      "    from early_stopping_pytorch.pytorchtools import EarlyStopping\n",
      "ModuleNotFoundError: No module named 'early_stopping_pytorch'\n",
      "Traceback (most recent call last):\n",
      "  File \"/home/sachin.yadav/DeepGP-ML-Project/stat_gp_cat/train.py\", line 9, in <module>\n",
      "    from early_stopping_pytorch.pytorchtools import EarlyStopping\n",
      "ModuleNotFoundError: No module named 'early_stopping_pytorch'\n",
      "Traceback (most recent call last):\n",
      "  File \"/home/sachin.yadav/DeepGP-ML-Project/stat_gp_cat/train.py\", line 9, in <module>\n",
      "    from early_stopping_pytorch.pytorchtools import EarlyStopping\n",
      "ModuleNotFoundError: No module named 'early_stopping_pytorch'\n",
      "Traceback (most recent call last):\n",
      "  File \"/home/sachin.yadav/DeepGP-ML-Project/stat_gp_cat/train.py\", line 9, in <module>\n",
      "    from early_stopping_pytorch.pytorchtools import EarlyStopping\n",
      "ModuleNotFoundError: No module named 'early_stopping_pytorch'\n",
      "Traceback (most recent call last):\n",
      "  File \"/home/sachin.yadav/DeepGP-ML-Project/stat_gp_cat/train.py\", line 9, in <module>\n",
      "    from early_stopping_pytorch.pytorchtools import EarlyStopping\n",
      "ModuleNotFoundError: No module named 'early_stopping_pytorch'\n",
      "Traceback (most recent call last):\n",
      "  File \"/home/sachin.yadav/DeepGP-ML-Project/stat_gp_cat/train.py\", line 9, in <module>\n",
      "    from early_stopping_pytorch.pytorchtools import EarlyStopping\n",
      "ModuleNotFoundError: No module named 'early_stopping_pytorch'\n",
      "Traceback (most recent call last):\n",
      "  File \"/home/sachin.yadav/DeepGP-ML-Project/stat_gp_cat/train.py\", line 9, in <module>\n",
      "    from early_stopping_pytorch.pytorchtools import EarlyStopping\n",
      "ModuleNotFoundError: No module named 'early_stopping_pytorch'\n",
      "Traceback (most recent call last):\n",
      "  File \"/home/sachin.yadav/DeepGP-ML-Project/stat_gp_cat/train.py\", line 9, in <module>\n",
      "    from early_stopping_pytorch.pytorchtools import EarlyStopping\n",
      "ModuleNotFoundError: No module named 'early_stopping_pytorch'\n"
     ]
    }
   ],
   "source": [
    "for i in range(10):\n",
    "    !python train.py 1 rbf {i} {DATA}"
   ]
  },
  {
   "cell_type": "code",
   "execution_count": 4,
   "metadata": {
    "collapsed": true
   },
   "outputs": [
    {
     "name": "stdout",
     "output_type": "stream",
     "text": [
      "Traceback (most recent call last):\n",
      "  File \"/home/sachin.yadav/DeepGP-ML-Project/stat_gp_cat/train.py\", line 9, in <module>\n",
      "    from early_stopping_pytorch.pytorchtools import EarlyStopping\n",
      "ModuleNotFoundError: No module named 'early_stopping_pytorch'\n",
      "Traceback (most recent call last):\n",
      "  File \"/home/sachin.yadav/DeepGP-ML-Project/stat_gp_cat/train.py\", line 9, in <module>\n",
      "    from early_stopping_pytorch.pytorchtools import EarlyStopping\n",
      "ModuleNotFoundError: No module named 'early_stopping_pytorch'\n",
      "Traceback (most recent call last):\n",
      "  File \"/home/sachin.yadav/DeepGP-ML-Project/stat_gp_cat/train.py\", line 9, in <module>\n",
      "    from early_stopping_pytorch.pytorchtools import EarlyStopping\n",
      "ModuleNotFoundError: No module named 'early_stopping_pytorch'\n",
      "Traceback (most recent call last):\n",
      "  File \"/home/sachin.yadav/DeepGP-ML-Project/stat_gp_cat/train.py\", line 9, in <module>\n",
      "    from early_stopping_pytorch.pytorchtools import EarlyStopping\n",
      "ModuleNotFoundError: No module named 'early_stopping_pytorch'\n",
      "Traceback (most recent call last):\n",
      "  File \"/home/sachin.yadav/DeepGP-ML-Project/stat_gp_cat/train.py\", line 9, in <module>\n",
      "    from early_stopping_pytorch.pytorchtools import EarlyStopping\n",
      "ModuleNotFoundError: No module named 'early_stopping_pytorch'\n",
      "Traceback (most recent call last):\n",
      "  File \"/home/sachin.yadav/DeepGP-ML-Project/stat_gp_cat/train.py\", line 9, in <module>\n",
      "    from early_stopping_pytorch.pytorchtools import EarlyStopping\n",
      "ModuleNotFoundError: No module named 'early_stopping_pytorch'\n",
      "Traceback (most recent call last):\n",
      "  File \"/home/sachin.yadav/DeepGP-ML-Project/stat_gp_cat/train.py\", line 9, in <module>\n",
      "    from early_stopping_pytorch.pytorchtools import EarlyStopping\n",
      "ModuleNotFoundError: No module named 'early_stopping_pytorch'\n",
      "Traceback (most recent call last):\n",
      "  File \"/home/sachin.yadav/DeepGP-ML-Project/stat_gp_cat/train.py\", line 9, in <module>\n",
      "    from early_stopping_pytorch.pytorchtools import EarlyStopping\n",
      "ModuleNotFoundError: No module named 'early_stopping_pytorch'\n",
      "Traceback (most recent call last):\n",
      "  File \"/home/sachin.yadav/DeepGP-ML-Project/stat_gp_cat/train.py\", line 9, in <module>\n",
      "    from early_stopping_pytorch.pytorchtools import EarlyStopping\n",
      "ModuleNotFoundError: No module named 'early_stopping_pytorch'\n",
      "Traceback (most recent call last):\n",
      "  File \"/home/sachin.yadav/DeepGP-ML-Project/stat_gp_cat/train.py\", line 9, in <module>\n",
      "    from early_stopping_pytorch.pytorchtools import EarlyStopping\n",
      "ModuleNotFoundError: No module named 'early_stopping_pytorch'\n"
     ]
    }
   ],
   "source": [
    "for i in range(10):\n",
    "    !python train.py 2 rbf {i} {DATA}"
   ]
  },
  {
   "cell_type": "markdown",
   "metadata": {},
   "source": [
    "# Matern12"
   ]
  },
  {
   "cell_type": "code",
   "execution_count": 5,
   "metadata": {},
   "outputs": [
    {
     "name": "stdout",
     "output_type": "stream",
     "text": [
      "Fold:  0\n",
      "Random State:  0\n",
      "Number of devices: 2 -- Kernel partition size: 0\n",
      "100%|█████████████████████████████████████████████| 1/1 [00:18<00:00, 18.85s/it]\n",
      "100%|█████████████████████████████████████████| 400/400 [00:56<00:00,  7.13it/s]\n",
      "Loss:  31.894268035888672\n",
      "RMSE:  25.095991597355848\n"
     ]
    }
   ],
   "source": [
    "for i in range(1):\n",
    "    !python train_ngpu.py 0 matern12 {i} {DATA}"
   ]
  },
  {
   "cell_type": "code",
   "execution_count": 6,
   "metadata": {},
   "outputs": [
    {
     "name": "stdout",
     "output_type": "stream",
     "text": [
      "Fold:  1\n",
      "Random State:  0\n",
      "Number of devices: 2 -- Kernel partition size: 0\n",
      "100%|█████████████████████████████████████████████| 1/1 [00:18<00:00, 18.86s/it]\n",
      "100%|█████████████████████████████████████████| 400/400 [00:57<00:00,  6.96it/s]\n",
      "Loss:  32.59128952026367\n",
      "RMSE:  24.613468752277736\n"
     ]
    }
   ],
   "source": [
    "for i in range(1):\n",
    "    !python train_ngpu.py 1 matern12 {i} {DATA}"
   ]
  },
  {
   "cell_type": "code",
   "execution_count": 7,
   "metadata": {
    "scrolled": true
   },
   "outputs": [
    {
     "name": "stdout",
     "output_type": "stream",
     "text": [
      "Fold:  2\n",
      "Random State:  0\n",
      "Number of devices: 2 -- Kernel partition size: 0\n",
      "100%|█████████████████████████████████████████████| 1/1 [00:18<00:00, 18.49s/it]\n",
      " 78%|███████████████████████████████▉         | 311/400 [00:43<00:12,  7.09it/s]EarlyStopping counter: 1 out of 5\n",
      " 78%|███████████████████████████████▉         | 312/400 [00:43<00:12,  7.13it/s]EarlyStopping counter: 2 out of 5\n",
      " 78%|████████████████████████████████         | 313/400 [00:43<00:12,  7.15it/s]EarlyStopping counter: 3 out of 5\n",
      " 78%|████████████████████████████████▏        | 314/400 [00:44<00:12,  7.15it/s]EarlyStopping counter: 4 out of 5\n",
      " 79%|████████████████████████████████▎        | 315/400 [00:44<00:11,  7.16it/s]EarlyStopping counter: 5 out of 5\n",
      "Early stopping\n",
      " 79%|████████████████████████████████▎        | 315/400 [00:44<00:11,  7.11it/s]\n",
      "Loss:  32.45455551147461\n",
      "RMSE:  32.38366432605311\n"
     ]
    }
   ],
   "source": [
    "for i in range(1):\n",
    "    !python train_ngpu.py 2 matern12 {i} {DATA}"
   ]
  },
  {
   "cell_type": "markdown",
   "metadata": {},
   "source": [
    "# Matern32"
   ]
  },
  {
   "cell_type": "code",
   "execution_count": 8,
   "metadata": {
    "scrolled": true
   },
   "outputs": [
    {
     "name": "stdout",
     "output_type": "stream",
     "text": [
      "Fold:  0\n",
      "Random State:  0\n",
      "Number of devices: 2 -- Kernel partition size: 0\n",
      "100%|█████████████████████████████████████████████| 1/1 [00:33<00:00, 33.57s/it]\n",
      "100%|█████████████████████████████████████████| 400/400 [01:05<00:00,  6.10it/s]\n",
      "Loss:  35.19859313964844\n",
      "RMSE:  24.99610049784973\n",
      "Fold:  0\n",
      "Random State:  1\n",
      "Number of devices: 2 -- Kernel partition size: 0\n",
      "100%|█████████████████████████████████████████████| 1/1 [00:18<00:00, 18.37s/it]\n",
      "100%|█████████████████████████████████████████| 400/400 [00:57<00:00,  6.91it/s]\n",
      "Loss:  53.9440803527832\n",
      "RMSE:  25.300447572158607\n",
      "Fold:  0\n",
      "Random State:  2\n",
      "Number of devices: 2 -- Kernel partition size: 0\n",
      "100%|█████████████████████████████████████████████| 1/1 [00:23<00:00, 23.63s/it]\n",
      "100%|█████████████████████████████████████████| 400/400 [00:57<00:00,  6.92it/s]\n",
      "Loss:  44.85477066040039\n",
      "RMSE:  25.04567375978869\n",
      "Fold:  0\n",
      "Random State:  3\n",
      "Number of devices: 2 -- Kernel partition size: 0\n",
      "100%|█████████████████████████████████████████████| 1/1 [00:18<00:00, 18.40s/it]\n",
      "100%|█████████████████████████████████████████| 400/400 [00:57<00:00,  6.93it/s]\n",
      "Loss:  45.85558319091797\n",
      "RMSE:  25.120809641420838\n",
      "Fold:  0\n",
      "Random State:  4\n",
      "Number of devices: 2 -- Kernel partition size: 0\n",
      "100%|█████████████████████████████████████████████| 1/1 [00:23<00:00, 23.43s/it]\n",
      "100%|█████████████████████████████████████████| 400/400 [00:57<00:00,  6.95it/s]\n",
      "Loss:  60.89120101928711\n",
      "RMSE:  25.048851065662728\n",
      "Fold:  0\n",
      "Random State:  5\n",
      "Number of devices: 2 -- Kernel partition size: 0\n",
      "100%|█████████████████████████████████████████████| 1/1 [00:18<00:00, 18.58s/it]\n",
      "100%|█████████████████████████████████████████| 400/400 [00:57<00:00,  6.96it/s]\n",
      "Loss:  46.099945068359375\n",
      "RMSE:  25.008597754803425\n",
      "Fold:  0\n",
      "Random State:  6\n",
      "Number of devices: 2 -- Kernel partition size: 0\n",
      "100%|█████████████████████████████████████████████| 1/1 [00:18<00:00, 18.49s/it]\n",
      "100%|█████████████████████████████████████████| 400/400 [00:57<00:00,  6.91it/s]\n",
      "Loss:  42.650142669677734\n",
      "RMSE:  25.200887460129824\n",
      "Fold:  0\n",
      "Random State:  7\n",
      "Number of devices: 2 -- Kernel partition size: 0\n",
      "100%|█████████████████████████████████████████████| 1/1 [00:33<00:00, 33.41s/it]\n",
      "100%|█████████████████████████████████████████| 400/400 [01:05<00:00,  6.11it/s]\n",
      "Loss:  44.211639404296875\n",
      "RMSE:  25.096170554889657\n",
      "Fold:  0\n",
      "Random State:  8\n",
      "Number of devices: 2 -- Kernel partition size: 0\n",
      "100%|█████████████████████████████████████████████| 1/1 [00:18<00:00, 18.37s/it]\n",
      "100%|█████████████████████████████████████████| 400/400 [00:56<00:00,  7.05it/s]\n",
      "Loss:  43.83787536621094\n",
      "RMSE:  25.188614821851427\n",
      "Fold:  0\n",
      "Random State:  9\n",
      "Number of devices: 2 -- Kernel partition size: 0\n",
      "100%|█████████████████████████████████████████████| 1/1 [00:18<00:00, 18.56s/it]\n",
      "100%|█████████████████████████████████████████| 400/400 [00:58<00:00,  6.86it/s]\n",
      "Loss:  44.59198760986328\n",
      "RMSE:  25.095056682601335\n"
     ]
    }
   ],
   "source": [
    "for i in range(10):\n",
    "    !python train_ngpu.py 0 matern32 {i} {DATA}"
   ]
  },
  {
   "cell_type": "code",
   "execution_count": 9,
   "metadata": {
    "scrolled": true
   },
   "outputs": [
    {
     "name": "stdout",
     "output_type": "stream",
     "text": [
      "Fold:  1\n",
      "Random State:  0\n",
      "Number of devices: 2 -- Kernel partition size: 0\n",
      "100%|█████████████████████████████████████████████| 1/1 [00:24<00:00, 24.60s/it]\n",
      "100%|█████████████████████████████████████████| 400/400 [00:59<00:00,  6.67it/s]\n",
      "Loss:  35.679420471191406\n",
      "RMSE:  25.00042429463852\n"
     ]
    }
   ],
   "source": [
    "for i in range(10):\n",
    "    !python train_ngpu.py 1 matern32 {i} {DATA}"
   ]
  },
  {
   "cell_type": "code",
   "execution_count": null,
   "metadata": {
    "scrolled": true
   },
   "outputs": [
    {
     "name": "stdout",
     "output_type": "stream",
     "text": [
      "Traceback (most recent call last):\n",
      "  File \"/home/sachin.yadav/DeepGP-ML-Project/stat_gp_cat/train_ngpu.py\", line 9, in <module>\n",
      "    from .early_stopping_pytorch.pytorchtools import EarlyStopping\n",
      "ImportError: attempted relative import with no known parent package\n",
      "Traceback (most recent call last):\n",
      "  File \"/home/sachin.yadav/DeepGP-ML-Project/stat_gp_cat/train_ngpu.py\", line 9, in <module>\n",
      "    from .early_stopping_pytorch.pytorchtools import EarlyStopping\n",
      "ImportError: attempted relative import with no known parent package\n",
      "Traceback (most recent call last):\n",
      "  File \"/home/sachin.yadav/DeepGP-ML-Project/stat_gp_cat/train_ngpu.py\", line 9, in <module>\n",
      "    from .early_stopping_pytorch.pytorchtools import EarlyStopping\n",
      "ImportError: attempted relative import with no known parent package\n",
      "Traceback (most recent call last):\n",
      "  File \"/home/sachin.yadav/DeepGP-ML-Project/stat_gp_cat/train_ngpu.py\", line 9, in <module>\n",
      "    from .early_stopping_pytorch.pytorchtools import EarlyStopping\n",
      "ImportError: attempted relative import with no known parent package\n"
     ]
    }
   ],
   "source": [
    "for i in range(10):\n",
    "    !python train_ngpu.py 2 matern32 {i} {DATA}"
   ]
  },
  {
   "cell_type": "markdown",
   "metadata": {},
   "source": [
    "# Matern52"
   ]
  },
  {
   "cell_type": "code",
   "execution_count": null,
   "metadata": {
    "scrolled": true
   },
   "outputs": [
    {
     "name": "stdout",
     "output_type": "stream",
     "text": [
      "  File \"/home/sachin.yadav/DeepGP-ML-Project/stat_gp_cat/train_ngpu.py\", line 9\n",
      "    from early-stopping-pytorch.pytorchtools import EarlyStopping\n",
      "              ^\n",
      "SyntaxError: invalid syntax\n",
      "  File \"/home/sachin.yadav/DeepGP-ML-Project/stat_gp_cat/train_ngpu.py\", line 9\n",
      "    from early-stopping-pytorch.pytorchtools import EarlyStopping\n",
      "              ^\n",
      "SyntaxError: invalid syntax\n",
      "  File \"/home/sachin.yadav/DeepGP-ML-Project/stat_gp_cat/train_ngpu.py\", line 9\n",
      "    from early-stopping-pytorch.pytorchtools import EarlyStopping\n",
      "              ^\n",
      "SyntaxError: invalid syntax\n",
      "  File \"/home/sachin.yadav/DeepGP-ML-Project/stat_gp_cat/train_ngpu.py\", line 9\n",
      "    from early-stopping-pytorch.pytorchtools import EarlyStopping\n",
      "              ^\n",
      "SyntaxError: invalid syntax\n",
      "  File \"/home/sachin.yadav/DeepGP-ML-Project/stat_gp_cat/train_ngpu.py\", line 9\n",
      "    from early-stopping-pytorch.pytorchtools import EarlyStopping\n",
      "              ^\n",
      "SyntaxError: invalid syntax\n",
      "  File \"/home/sachin.yadav/DeepGP-ML-Project/stat_gp_cat/train_ngpu.py\", line 9\n",
      "    from early-stopping-pytorch.pytorchtools import EarlyStopping\n",
      "              ^\n",
      "SyntaxError: invalid syntax\n",
      "  File \"/home/sachin.yadav/DeepGP-ML-Project/stat_gp_cat/train_ngpu.py\", line 9\n",
      "    from early-stopping-pytorch.pytorchtools import EarlyStopping\n",
      "              ^\n",
      "SyntaxError: invalid syntax\n",
      "  File \"/home/sachin.yadav/DeepGP-ML-Project/stat_gp_cat/train_ngpu.py\", line 9\n",
      "    from early-stopping-pytorch.pytorchtools import EarlyStopping\n",
      "              ^\n",
      "SyntaxError: invalid syntax\n",
      "  File \"/home/sachin.yadav/DeepGP-ML-Project/stat_gp_cat/train_ngpu.py\", line 9\n",
      "    from early-stopping-pytorch.pytorchtools import EarlyStopping\n",
      "              ^\n",
      "SyntaxError: invalid syntax\n",
      "  File \"/home/sachin.yadav/DeepGP-ML-Project/stat_gp_cat/train_ngpu.py\", line 9\n",
      "    from early-stopping-pytorch.pytorchtools import EarlyStopping\n",
      "              ^\n",
      "SyntaxError: invalid syntax\n"
     ]
    }
   ],
   "source": [
    "for i in range(10):\n",
    "    !python train_ngpu.py 0 matern52 {i} {DATA}"
   ]
  },
  {
   "cell_type": "code",
   "execution_count": null,
   "metadata": {
    "scrolled": true
   },
   "outputs": [
    {
     "name": "stdout",
     "output_type": "stream",
     "text": [
      "  File \"/home/sachin.yadav/DeepGP-ML-Project/stat_gp_cat/train_ngpu.py\", line 9\n",
      "    from early-stopping-pytorch.pytorchtools import EarlyStopping\n",
      "              ^\n",
      "SyntaxError: invalid syntax\n",
      "  File \"/home/sachin.yadav/DeepGP-ML-Project/stat_gp_cat/train_ngpu.py\", line 9\n",
      "    from early-stopping-pytorch.pytorchtools import EarlyStopping\n",
      "              ^\n",
      "SyntaxError: invalid syntax\n",
      "  File \"/home/sachin.yadav/DeepGP-ML-Project/stat_gp_cat/train_ngpu.py\", line 9\n",
      "    from early-stopping-pytorch.pytorchtools import EarlyStopping\n",
      "              ^\n",
      "SyntaxError: invalid syntax\n",
      "  File \"/home/sachin.yadav/DeepGP-ML-Project/stat_gp_cat/train_ngpu.py\", line 9\n",
      "    from early-stopping-pytorch.pytorchtools import EarlyStopping\n",
      "              ^\n",
      "SyntaxError: invalid syntax\n",
      "  File \"/home/sachin.yadav/DeepGP-ML-Project/stat_gp_cat/train_ngpu.py\", line 9\n",
      "    from early-stopping-pytorch.pytorchtools import EarlyStopping\n",
      "              ^\n",
      "SyntaxError: invalid syntax\n",
      "  File \"/home/sachin.yadav/DeepGP-ML-Project/stat_gp_cat/train_ngpu.py\", line 9\n",
      "    from early-stopping-pytorch.pytorchtools import EarlyStopping\n",
      "              ^\n",
      "SyntaxError: invalid syntax\n",
      "  File \"/home/sachin.yadav/DeepGP-ML-Project/stat_gp_cat/train_ngpu.py\", line 9\n",
      "    from early-stopping-pytorch.pytorchtools import EarlyStopping\n",
      "              ^\n",
      "SyntaxError: invalid syntax\n",
      "  File \"/home/sachin.yadav/DeepGP-ML-Project/stat_gp_cat/train_ngpu.py\", line 9\n",
      "    from early-stopping-pytorch.pytorchtools import EarlyStopping\n",
      "              ^\n",
      "SyntaxError: invalid syntax\n",
      "  File \"/home/sachin.yadav/DeepGP-ML-Project/stat_gp_cat/train_ngpu.py\", line 9\n",
      "    from early-stopping-pytorch.pytorchtools import EarlyStopping\n",
      "              ^\n",
      "SyntaxError: invalid syntax\n",
      "  File \"/home/sachin.yadav/DeepGP-ML-Project/stat_gp_cat/train_ngpu.py\", line 9\n",
      "    from early-stopping-pytorch.pytorchtools import EarlyStopping\n",
      "              ^\n",
      "SyntaxError: invalid syntax\n"
     ]
    }
   ],
   "source": [
    "for i in range(10):\n",
    "    !python train_ngpu.py 1 matern52 {i} {DATA}"
   ]
  },
  {
   "cell_type": "code",
   "execution_count": null,
   "metadata": {
    "scrolled": true
   },
   "outputs": [
    {
     "name": "stdout",
     "output_type": "stream",
     "text": [
      "  File \"/home/sachin.yadav/DeepGP-ML-Project/stat_gp_cat/train_ngpu.py\", line 9\n",
      "    from early-stopping-pytorch.pytorchtools import EarlyStopping\n",
      "              ^\n",
      "SyntaxError: invalid syntax\n",
      "  File \"/home/sachin.yadav/DeepGP-ML-Project/stat_gp_cat/train_ngpu.py\", line 9\n",
      "    from early-stopping-pytorch.pytorchtools import EarlyStopping\n",
      "              ^\n",
      "SyntaxError: invalid syntax\n",
      "  File \"/home/sachin.yadav/DeepGP-ML-Project/stat_gp_cat/train_ngpu.py\", line 9\n",
      "    from early-stopping-pytorch.pytorchtools import EarlyStopping\n",
      "              ^\n",
      "SyntaxError: invalid syntax\n",
      "  File \"/home/sachin.yadav/DeepGP-ML-Project/stat_gp_cat/train_ngpu.py\", line 9\n",
      "    from early-stopping-pytorch.pytorchtools import EarlyStopping\n",
      "              ^\n",
      "SyntaxError: invalid syntax\n",
      "  File \"/home/sachin.yadav/DeepGP-ML-Project/stat_gp_cat/train_ngpu.py\", line 9\n",
      "    from early-stopping-pytorch.pytorchtools import EarlyStopping\n",
      "              ^\n",
      "SyntaxError: invalid syntax\n",
      "  File \"/home/sachin.yadav/DeepGP-ML-Project/stat_gp_cat/train_ngpu.py\", line 9\n",
      "    from early-stopping-pytorch.pytorchtools import EarlyStopping\n",
      "              ^\n",
      "SyntaxError: invalid syntax\n",
      "  File \"/home/sachin.yadav/DeepGP-ML-Project/stat_gp_cat/train_ngpu.py\", line 9\n",
      "    from early-stopping-pytorch.pytorchtools import EarlyStopping\n",
      "              ^\n",
      "SyntaxError: invalid syntax\n",
      "  File \"/home/sachin.yadav/DeepGP-ML-Project/stat_gp_cat/train_ngpu.py\", line 9\n",
      "    from early-stopping-pytorch.pytorchtools import EarlyStopping\n",
      "              ^\n",
      "SyntaxError: invalid syntax\n",
      "  File \"/home/sachin.yadav/DeepGP-ML-Project/stat_gp_cat/train_ngpu.py\", line 9\n",
      "    from early-stopping-pytorch.pytorchtools import EarlyStopping\n",
      "              ^\n",
      "SyntaxError: invalid syntax\n",
      "  File \"/home/sachin.yadav/DeepGP-ML-Project/stat_gp_cat/train_ngpu.py\", line 9\n",
      "    from early-stopping-pytorch.pytorchtools import EarlyStopping\n",
      "              ^\n",
      "SyntaxError: invalid syntax\n"
     ]
    }
   ],
   "source": [
    "for i in range(10):\n",
    "    !python train_ngpu.py 2 matern52 {i} {DATA}"
   ]
  },
  {
   "cell_type": "markdown",
   "metadata": {},
   "source": [
    "# Matern+Rbf"
   ]
  },
  {
   "cell_type": "code",
   "execution_count": null,
   "metadata": {
    "scrolled": true
   },
   "outputs": [
    {
     "name": "stdout",
     "output_type": "stream",
     "text": [
      "  File \"/home/sachin.yadav/DeepGP-ML-Project/stat_gp_cat/train_ngpu.py\", line 9\n",
      "    from early-stopping-pytorch.pytorchtools import EarlyStopping\n",
      "              ^\n",
      "SyntaxError: invalid syntax\n",
      "  File \"/home/sachin.yadav/DeepGP-ML-Project/stat_gp_cat/train_ngpu.py\", line 9\n",
      "    from early-stopping-pytorch.pytorchtools import EarlyStopping\n",
      "              ^\n",
      "SyntaxError: invalid syntax\n",
      "  File \"/home/sachin.yadav/DeepGP-ML-Project/stat_gp_cat/train_ngpu.py\", line 9\n",
      "    from early-stopping-pytorch.pytorchtools import EarlyStopping\n",
      "              ^\n",
      "SyntaxError: invalid syntax\n",
      "  File \"/home/sachin.yadav/DeepGP-ML-Project/stat_gp_cat/train_ngpu.py\", line 9\n",
      "    from early-stopping-pytorch.pytorchtools import EarlyStopping\n",
      "              ^\n",
      "SyntaxError: invalid syntax\n",
      "  File \"/home/sachin.yadav/DeepGP-ML-Project/stat_gp_cat/train_ngpu.py\", line 9\n",
      "    from early-stopping-pytorch.pytorchtools import EarlyStopping\n",
      "              ^\n",
      "SyntaxError: invalid syntax\n",
      "  File \"/home/sachin.yadav/DeepGP-ML-Project/stat_gp_cat/train_ngpu.py\", line 9\n",
      "    from early-stopping-pytorch.pytorchtools import EarlyStopping\n",
      "              ^\n",
      "SyntaxError: invalid syntax\n",
      "  File \"/home/sachin.yadav/DeepGP-ML-Project/stat_gp_cat/train_ngpu.py\", line 9\n",
      "    from early-stopping-pytorch.pytorchtools import EarlyStopping\n",
      "              ^\n",
      "SyntaxError: invalid syntax\n",
      "  File \"/home/sachin.yadav/DeepGP-ML-Project/stat_gp_cat/train_ngpu.py\", line 9\n",
      "    from early-stopping-pytorch.pytorchtools import EarlyStopping\n",
      "              ^\n",
      "SyntaxError: invalid syntax\n",
      "  File \"/home/sachin.yadav/DeepGP-ML-Project/stat_gp_cat/train_ngpu.py\", line 9\n",
      "    from early-stopping-pytorch.pytorchtools import EarlyStopping\n",
      "              ^\n",
      "SyntaxError: invalid syntax\n",
      "  File \"/home/sachin.yadav/DeepGP-ML-Project/stat_gp_cat/train_ngpu.py\", line 9\n",
      "    from early-stopping-pytorch.pytorchtools import EarlyStopping\n",
      "              ^\n",
      "SyntaxError: invalid syntax\n"
     ]
    }
   ],
   "source": [
    "for i in range(10):\n",
    "    !python train_ngpu.py 0 matern_rbf {i} {DATA}"
   ]
  },
  {
   "cell_type": "code",
   "execution_count": null,
   "metadata": {
    "scrolled": true
   },
   "outputs": [
    {
     "name": "stdout",
     "output_type": "stream",
     "text": [
      "  File \"/home/sachin.yadav/DeepGP-ML-Project/stat_gp_cat/train_ngpu.py\", line 9\n",
      "    from early-stopping-pytorch.pytorchtools import EarlyStopping\n",
      "              ^\n",
      "SyntaxError: invalid syntax\n",
      "  File \"/home/sachin.yadav/DeepGP-ML-Project/stat_gp_cat/train_ngpu.py\", line 9\n",
      "    from early-stopping-pytorch.pytorchtools import EarlyStopping\n",
      "              ^\n",
      "SyntaxError: invalid syntax\n",
      "  File \"/home/sachin.yadav/DeepGP-ML-Project/stat_gp_cat/train_ngpu.py\", line 9\n",
      "    from early-stopping-pytorch.pytorchtools import EarlyStopping\n",
      "              ^\n",
      "SyntaxError: invalid syntax\n",
      "  File \"/home/sachin.yadav/DeepGP-ML-Project/stat_gp_cat/train_ngpu.py\", line 9\n",
      "    from early-stopping-pytorch.pytorchtools import EarlyStopping\n",
      "              ^\n",
      "SyntaxError: invalid syntax\n",
      "  File \"/home/sachin.yadav/DeepGP-ML-Project/stat_gp_cat/train_ngpu.py\", line 9\n",
      "    from early-stopping-pytorch.pytorchtools import EarlyStopping\n",
      "              ^\n",
      "SyntaxError: invalid syntax\n",
      "  File \"/home/sachin.yadav/DeepGP-ML-Project/stat_gp_cat/train_ngpu.py\", line 9\n",
      "    from early-stopping-pytorch.pytorchtools import EarlyStopping\n",
      "              ^\n",
      "SyntaxError: invalid syntax\n",
      "  File \"/home/sachin.yadav/DeepGP-ML-Project/stat_gp_cat/train_ngpu.py\", line 9\n",
      "    from early-stopping-pytorch.pytorchtools import EarlyStopping\n",
      "              ^\n",
      "SyntaxError: invalid syntax\n",
      "  File \"/home/sachin.yadav/DeepGP-ML-Project/stat_gp_cat/train_ngpu.py\", line 9\n",
      "    from early-stopping-pytorch.pytorchtools import EarlyStopping\n",
      "              ^\n",
      "SyntaxError: invalid syntax\n",
      "  File \"/home/sachin.yadav/DeepGP-ML-Project/stat_gp_cat/train_ngpu.py\", line 9\n",
      "    from early-stopping-pytorch.pytorchtools import EarlyStopping\n",
      "              ^\n",
      "SyntaxError: invalid syntax\n",
      "  File \"/home/sachin.yadav/DeepGP-ML-Project/stat_gp_cat/train_ngpu.py\", line 9\n",
      "    from early-stopping-pytorch.pytorchtools import EarlyStopping\n",
      "              ^\n",
      "SyntaxError: invalid syntax\n"
     ]
    }
   ],
   "source": [
    "for i in range(10):\n",
    "    !python train_ngpu.py 1 matern_rbf {i} {DATA}"
   ]
  },
  {
   "cell_type": "code",
   "execution_count": null,
   "metadata": {
    "scrolled": true
   },
   "outputs": [
    {
     "name": "stdout",
     "output_type": "stream",
     "text": [
      "  File \"/home/sachin.yadav/DeepGP-ML-Project/stat_gp_cat/train_ngpu.py\", line 9\n",
      "    from early-stopping-pytorch.pytorchtools import EarlyStopping\n",
      "              ^\n",
      "SyntaxError: invalid syntax\n",
      "  File \"/home/sachin.yadav/DeepGP-ML-Project/stat_gp_cat/train_ngpu.py\", line 9\n",
      "    from early-stopping-pytorch.pytorchtools import EarlyStopping\n",
      "              ^\n",
      "SyntaxError: invalid syntax\n",
      "  File \"/home/sachin.yadav/DeepGP-ML-Project/stat_gp_cat/train_ngpu.py\", line 9\n",
      "    from early-stopping-pytorch.pytorchtools import EarlyStopping\n",
      "              ^\n",
      "SyntaxError: invalid syntax\n",
      "  File \"/home/sachin.yadav/DeepGP-ML-Project/stat_gp_cat/train_ngpu.py\", line 9\n",
      "    from early-stopping-pytorch.pytorchtools import EarlyStopping\n",
      "              ^\n",
      "SyntaxError: invalid syntax\n",
      "  File \"/home/sachin.yadav/DeepGP-ML-Project/stat_gp_cat/train_ngpu.py\", line 9\n",
      "    from early-stopping-pytorch.pytorchtools import EarlyStopping\n",
      "              ^\n",
      "SyntaxError: invalid syntax\n",
      "  File \"/home/sachin.yadav/DeepGP-ML-Project/stat_gp_cat/train_ngpu.py\", line 9\n",
      "    from early-stopping-pytorch.pytorchtools import EarlyStopping\n",
      "              ^\n",
      "SyntaxError: invalid syntax\n",
      "  File \"/home/sachin.yadav/DeepGP-ML-Project/stat_gp_cat/train_ngpu.py\", line 9\n",
      "    from early-stopping-pytorch.pytorchtools import EarlyStopping\n",
      "              ^\n",
      "SyntaxError: invalid syntax\n",
      "  File \"/home/sachin.yadav/DeepGP-ML-Project/stat_gp_cat/train_ngpu.py\", line 9\n",
      "    from early-stopping-pytorch.pytorchtools import EarlyStopping\n",
      "              ^\n",
      "SyntaxError: invalid syntax\n",
      "  File \"/home/sachin.yadav/DeepGP-ML-Project/stat_gp_cat/train_ngpu.py\", line 9\n",
      "    from early-stopping-pytorch.pytorchtools import EarlyStopping\n",
      "              ^\n",
      "SyntaxError: invalid syntax\n",
      "  File \"/home/sachin.yadav/DeepGP-ML-Project/stat_gp_cat/train_ngpu.py\", line 9\n",
      "    from early-stopping-pytorch.pytorchtools import EarlyStopping\n",
      "              ^\n",
      "SyntaxError: invalid syntax\n"
     ]
    }
   ],
   "source": [
    "for i in range(10):\n",
    "    !python train_ngpu.py 2 matern_rbf {i} {DATA}"
   ]
  },
  {
   "cell_type": "code",
   "execution_count": null,
   "metadata": {},
   "outputs": [
    {
     "ename": "SyntaxError",
     "evalue": "invalid syntax (615251177.py, line 1)",
     "output_type": "error",
     "traceback": [
      "\u001b[0;36m  Input \u001b[0;32mIn [17]\u001b[0;36m\u001b[0m\n\u001b[0;31m    python train_ngpu.py 2 matern_rbf 9 {DATA}\u001b[0m\n\u001b[0m           ^\u001b[0m\n\u001b[0;31mSyntaxError\u001b[0m\u001b[0;31m:\u001b[0m invalid syntax\n"
     ]
    }
   ],
   "source": [
    "python train_ngpu.py 2 matern_rbf 9 {DATA}"
   ]
  },
  {
   "cell_type": "markdown",
   "metadata": {},
   "source": [
    "# Matern*Rbf"
   ]
  },
  {
   "cell_type": "code",
   "execution_count": null,
   "metadata": {
    "scrolled": true
   },
   "outputs": [
    {
     "name": "stdout",
     "output_type": "stream",
     "text": [
      "Fold:  0\n",
      "Random State:  0\n",
      "Number of devices: 2 -- Kernel partition size: 0\n",
      "100%|█████████████████████████████████████████████| 1/1 [00:03<00:00,  3.62s/it]\n",
      "100%|█████████████████████████████████████████| 400/400 [02:38<00:00,  2.52it/s]\n",
      "Loss:  44.44075012207031\n",
      "RMSE:  23.379183511435922\n",
      "Fold:  0\n",
      "Random State:  1\n",
      "Number of devices: 2 -- Kernel partition size: 0\n",
      "100%|█████████████████████████████████████████████| 1/1 [00:04<00:00,  4.30s/it]\n",
      "100%|█████████████████████████████████████████| 400/400 [02:39<00:00,  2.51it/s]\n",
      "Loss:  79.08614349365234\n",
      "RMSE:  24.689282126434374\n",
      "Fold:  0\n",
      "Random State:  2\n",
      "Number of devices: 2 -- Kernel partition size: 0\n",
      "100%|█████████████████████████████████████████████| 1/1 [00:04<00:00,  4.36s/it]\n",
      "100%|█████████████████████████████████████████| 400/400 [02:39<00:00,  2.50it/s]\n",
      "Loss:  60.159793853759766\n",
      "RMSE:  23.887044191944817\n",
      "Fold:  0\n",
      "Random State:  3\n",
      "Number of devices: 2 -- Kernel partition size: 0\n",
      "100%|█████████████████████████████████████████████| 1/1 [00:03<00:00,  3.68s/it]\n",
      "100%|█████████████████████████████████████████| 400/400 [02:37<00:00,  2.54it/s]\n",
      "Loss:  67.19532775878906\n",
      "RMSE:  24.7487533550321\n",
      "Fold:  0\n",
      "Random State:  4\n",
      "Number of devices: 2 -- Kernel partition size: 0\n",
      "100%|█████████████████████████████████████████████| 1/1 [00:03<00:00,  3.49s/it]\n",
      "100%|█████████████████████████████████████████| 400/400 [02:37<00:00,  2.54it/s]\n",
      "Loss:  81.23788452148438\n",
      "RMSE:  24.514612441031094\n",
      "Fold:  0\n",
      "Random State:  5\n",
      "Number of devices: 2 -- Kernel partition size: 0\n",
      "100%|█████████████████████████████████████████████| 1/1 [00:03<00:00,  3.70s/it]\n",
      "100%|█████████████████████████████████████████| 400/400 [02:38<00:00,  2.52it/s]\n",
      "Loss:  68.74015808105469\n",
      "RMSE:  24.63548800154368\n",
      "Fold:  0\n",
      "Random State:  6\n",
      "Number of devices: 2 -- Kernel partition size: 0\n",
      "100%|█████████████████████████████████████████████| 1/1 [00:03<00:00,  3.59s/it]\n",
      "100%|█████████████████████████████████████████| 400/400 [02:40<00:00,  2.49it/s]\n",
      "Loss:  61.667118072509766\n",
      "RMSE:  24.53902559635332\n",
      "Fold:  0\n",
      "Random State:  7\n",
      "Number of devices: 2 -- Kernel partition size: 0\n",
      "100%|█████████████████████████████████████████████| 1/1 [00:04<00:00,  4.39s/it]\n",
      "100%|█████████████████████████████████████████| 400/400 [02:38<00:00,  2.52it/s]\n",
      "Loss:  61.387115478515625\n",
      "RMSE:  23.978045060071512\n",
      "Fold:  0\n",
      "Random State:  8\n",
      "Number of devices: 2 -- Kernel partition size: 0\n",
      "100%|█████████████████████████████████████████████| 1/1 [00:03<00:00,  3.49s/it]\n",
      "100%|█████████████████████████████████████████| 400/400 [02:39<00:00,  2.50it/s]\n",
      "Loss:  51.568111419677734\n",
      "RMSE:  22.829458044042514\n",
      "Fold:  0\n",
      "Random State:  9\n",
      "Number of devices: 2 -- Kernel partition size: 0\n",
      "100%|█████████████████████████████████████████████| 1/1 [00:03<00:00,  3.51s/it]\n",
      "100%|█████████████████████████████████████████| 400/400 [02:38<00:00,  2.53it/s]\n",
      "Loss:  67.37262725830078\n",
      "RMSE:  24.442107896771464\n"
     ]
    }
   ],
   "source": [
    "for i in range(10):\n",
    "    !python train_ngpu.py 0 maternXrbf {i} {DATA}"
   ]
  },
  {
   "cell_type": "code",
   "execution_count": null,
   "metadata": {
    "scrolled": true
   },
   "outputs": [
    {
     "name": "stdout",
     "output_type": "stream",
     "text": [
      "Fold:  1\n",
      "Random State:  0\n",
      "Number of devices: 2 -- Kernel partition size: 0\n",
      "100%|█████████████████████████████████████████████| 1/1 [00:03<00:00,  3.54s/it]\n",
      "100%|█████████████████████████████████████████| 400/400 [02:37<00:00,  2.54it/s]\n",
      "Loss:  45.33794021606445\n",
      "RMSE:  28.426958249880503\n",
      "Fold:  1\n",
      "Random State:  1\n",
      "Number of devices: 2 -- Kernel partition size: 0\n",
      "100%|█████████████████████████████████████████████| 1/1 [00:03<00:00,  3.56s/it]\n",
      "100%|█████████████████████████████████████████| 400/400 [02:39<00:00,  2.50it/s]\n",
      "Loss:  81.917724609375\n",
      "RMSE:  29.24371284215504\n",
      "Fold:  1\n",
      "Random State:  2\n",
      "Number of devices: 2 -- Kernel partition size: 0\n",
      "100%|█████████████████████████████████████████████| 1/1 [00:03<00:00,  3.48s/it]\n",
      "100%|█████████████████████████████████████████| 400/400 [02:37<00:00,  2.53it/s]\n",
      "Loss:  61.95417404174805\n",
      "RMSE:  27.62149806585598\n",
      "Fold:  1\n",
      "Random State:  3\n",
      "Number of devices: 2 -- Kernel partition size: 0\n",
      "100%|█████████████████████████████████████████████| 1/1 [00:03<00:00,  3.52s/it]\n",
      "100%|█████████████████████████████████████████| 400/400 [02:40<00:00,  2.49it/s]\n",
      "Loss:  68.59915924072266\n",
      "RMSE:  28.778987724130857\n",
      "Fold:  1\n",
      "Random State:  4\n",
      "Number of devices: 2 -- Kernel partition size: 0\n",
      "100%|█████████████████████████████████████████████| 1/1 [00:03<00:00,  3.56s/it]\n",
      "100%|█████████████████████████████████████████| 400/400 [02:46<00:00,  2.40it/s]\n",
      "Loss:  83.1987075805664\n",
      "RMSE:  28.683479628696713\n",
      "Fold:  1\n",
      "Random State:  5\n",
      "Number of devices: 2 -- Kernel partition size: 0\n",
      "100%|█████████████████████████████████████████████| 1/1 [00:03<00:00,  3.54s/it]\n",
      "100%|█████████████████████████████████████████| 400/400 [02:37<00:00,  2.54it/s]\n",
      "Loss:  70.43684387207031\n",
      "RMSE:  29.214559933260524\n",
      "Fold:  1\n",
      "Random State:  6\n",
      "Number of devices: 2 -- Kernel partition size: 0\n",
      "100%|█████████████████████████████████████████████| 1/1 [00:03<00:00,  3.57s/it]\n",
      "100%|█████████████████████████████████████████| 400/400 [02:38<00:00,  2.53it/s]\n",
      "Loss:  62.679683685302734\n",
      "RMSE:  28.784927847303027\n",
      "Fold:  1\n",
      "Random State:  7\n",
      "Number of devices: 2 -- Kernel partition size: 0\n",
      "100%|█████████████████████████████████████████████| 1/1 [00:03<00:00,  3.56s/it]\n",
      "100%|█████████████████████████████████████████| 400/400 [02:37<00:00,  2.54it/s]\n",
      "Loss:  62.5955924987793\n",
      "RMSE:  27.47412866046516\n",
      "Fold:  1\n",
      "Random State:  8\n",
      "Number of devices: 2 -- Kernel partition size: 0\n",
      "100%|█████████████████████████████████████████████| 1/1 [00:03<00:00,  3.51s/it]\n",
      "100%|█████████████████████████████████████████| 400/400 [02:41<00:00,  2.48it/s]\n",
      "Loss:  51.678253173828125\n",
      "RMSE:  28.20315450504908\n",
      "Fold:  1\n",
      "Random State:  9\n",
      "Number of devices: 2 -- Kernel partition size: 0\n",
      "100%|█████████████████████████████████████████████| 1/1 [00:03<00:00,  3.51s/it]\n",
      "100%|█████████████████████████████████████████| 400/400 [02:37<00:00,  2.54it/s]\n",
      "Loss:  69.47117614746094\n",
      "RMSE:  29.064056747929122\n"
     ]
    }
   ],
   "source": [
    "for i in range(10):\n",
    "    !python train_ngpu.py 1 maternXrbf {i} {DATA}"
   ]
  },
  {
   "cell_type": "code",
   "execution_count": null,
   "metadata": {
    "scrolled": true
   },
   "outputs": [
    {
     "name": "stdout",
     "output_type": "stream",
     "text": [
      "Fold:  2\n",
      "Random State:  0\n",
      "Number of devices: 2 -- Kernel partition size: 0\n",
      "100%|█████████████████████████████████████████████| 1/1 [00:03<00:00,  3.71s/it]\n",
      "100%|█████████████████████████████████████████| 400/400 [02:37<00:00,  2.54it/s]\n",
      "Loss:  43.53270721435547\n",
      "RMSE:  25.984832241605186\n",
      "Fold:  2\n",
      "Random State:  1\n",
      "Number of devices: 2 -- Kernel partition size: 0\n",
      "100%|█████████████████████████████████████████████| 1/1 [00:03<00:00,  3.49s/it]\n",
      "100%|█████████████████████████████████████████| 400/400 [02:37<00:00,  2.54it/s]\n",
      "Loss:  79.22278594970703\n",
      "RMSE:  27.30191169882525\n",
      "Fold:  2\n",
      "Random State:  2\n",
      "Number of devices: 2 -- Kernel partition size: 0\n",
      "100%|█████████████████████████████████████████████| 1/1 [00:03<00:00,  3.91s/it]\n",
      "100%|█████████████████████████████████████████| 400/400 [02:40<00:00,  2.49it/s]\n",
      "Loss:  59.454830169677734\n",
      "RMSE:  26.461402619542223\n",
      "Fold:  2\n",
      "Random State:  3\n",
      "Number of devices: 2 -- Kernel partition size: 0\n",
      "100%|█████████████████████████████████████████████| 1/1 [00:03<00:00,  3.35s/it]\n",
      "100%|█████████████████████████████████████████| 400/400 [02:37<00:00,  2.54it/s]\n",
      "Loss:  66.42056274414062\n",
      "RMSE:  27.08966083880808\n",
      "Fold:  2\n",
      "Random State:  4\n",
      "Number of devices: 2 -- Kernel partition size: 0\n",
      "100%|█████████████████████████████████████████████| 1/1 [00:03<00:00,  3.36s/it]\n",
      "100%|█████████████████████████████████████████| 400/400 [02:37<00:00,  2.54it/s]\n",
      "Loss:  79.95386505126953\n",
      "RMSE:  26.828396184429717\n",
      "Fold:  2\n",
      "Random State:  5\n",
      "Number of devices: 2 -- Kernel partition size: 0\n",
      "100%|█████████████████████████████████████████████| 1/1 [00:03<00:00,  3.34s/it]\n",
      "100%|█████████████████████████████████████████| 400/400 [02:37<00:00,  2.54it/s]\n",
      "Loss:  68.42329406738281\n",
      "RMSE:  27.358784024014913\n",
      "Fold:  2\n",
      "Random State:  6\n",
      "Number of devices: 2 -- Kernel partition size: 0\n",
      "100%|█████████████████████████████████████████████| 1/1 [00:03<00:00,  3.36s/it]\n",
      "100%|█████████████████████████████████████████| 400/400 [02:37<00:00,  2.54it/s]\n",
      "Loss:  61.07154083251953\n",
      "RMSE:  26.794657942891757\n",
      "Fold:  2\n",
      "Random State:  7\n",
      "Number of devices: 2 -- Kernel partition size: 0\n",
      "100%|█████████████████████████████████████████████| 1/1 [00:03<00:00,  3.35s/it]\n",
      "100%|█████████████████████████████████████████| 400/400 [02:40<00:00,  2.49it/s]\n",
      "Loss:  60.665462493896484\n",
      "RMSE:  26.229680094774245\n",
      "Fold:  2\n",
      "Random State:  8\n",
      "Number of devices: 2 -- Kernel partition size: 0\n",
      "100%|█████████████████████████████████████████████| 1/1 [00:03<00:00,  3.30s/it]\n",
      "100%|█████████████████████████████████████████| 400/400 [02:37<00:00,  2.53it/s]\n",
      "Loss:  50.78093719482422\n",
      "RMSE:  25.635452572905564\n",
      "Fold:  2\n",
      "Random State:  9\n",
      "Number of devices: 2 -- Kernel partition size: 0\n",
      "100%|█████████████████████████████████████████████| 1/1 [00:03<00:00,  3.87s/it]\n",
      "100%|█████████████████████████████████████████| 400/400 [02:37<00:00,  2.53it/s]\n",
      "Loss:  66.87252807617188\n",
      "RMSE:  27.036768834910276\n"
     ]
    }
   ],
   "source": [
    "for i in range(10):\n",
    "    !python train_ngpu.py 2 maternXrbf {i} {DATA}"
   ]
  },
  {
   "cell_type": "markdown",
   "metadata": {},
   "source": [
    "# TESTING"
   ]
  },
  {
   "cell_type": "code",
   "execution_count": null,
   "metadata": {},
   "outputs": [
    {
     "name": "stdout",
     "output_type": "stream",
     "text": [
      "Fold:  0\n",
      "RMSE:  23.11186673126866\n",
      "Saving to:  final_preds/march_nsgp_data/rbf_fold_0.csv.gz\n",
      "Fold:  1\n",
      "RMSE:  64.45875871446353\n",
      "Saving to:  final_preds/march_nsgp_data/rbf_fold_1.csv.gz\n",
      "Fold:  2\n",
      "RMSE:  58.63771661695074\n",
      "Saving to:  final_preds/march_nsgp_data/rbf_fold_2.csv.gz\n"
     ]
    }
   ],
   "source": [
    "kernel = \"rbf\"\n",
    "RS = 0\n",
    "for fold in [0,1,2]:\n",
    "    !python test_ngpu.py {fold} {kernel} /home/nsgp_group/baselines_bo/final_models/march_nsgp_data/{kernel}_fold_{fold}_random_state_{RS} march_nsgp"
   ]
  },
  {
   "cell_type": "code",
   "execution_count": null,
   "metadata": {},
   "outputs": [
    {
     "name": "stdout",
     "output_type": "stream",
     "text": [
      "Fold:  0\n",
      "RMSE:  22.665243962608265\n",
      "Parameter containing:\n",
      "tensor([[0.5429]], device='cuda:0', requires_grad=True)\n",
      "[Parameter containing:\n",
      "tensor([7.0897], device='cuda:0', requires_grad=True), Parameter containing:\n",
      "tensor([1.7093], device='cuda:0', requires_grad=True), Parameter containing:\n",
      "tensor(7.6226, device='cuda:0', requires_grad=True), Parameter containing:\n",
      "tensor([[ 1.4876,  1.1397,  1.9450,  4.0049,  2.9279, -0.5051]],\n",
      "       device='cuda:0', requires_grad=True), Parameter containing:\n",
      "tensor([[-4.0086]], device='cuda:0', requires_grad=True), Parameter containing:\n",
      "tensor([[0.5429]], device='cuda:0', requires_grad=True), Parameter containing:\n",
      "tensor([[2.9021, 6.0797]], device='cuda:0', requires_grad=True)]\n"
     ]
    }
   ],
   "source": [
    "kernel = \"local_p_matern12\"\n",
    "RS = 0\n",
    "fold = 0\n",
    "!python test_ngpu.py {fold} {kernel} /home/nsgp_group/baselines_bo/final_models/march_nsgp_data/{kernel}_fold_{fold}_random_state_{RS} march_nsgp"
   ]
  },
  {
   "cell_type": "code",
   "execution_count": null,
   "metadata": {},
   "outputs": [
    {
     "name": "stdout",
     "output_type": "stream",
     "text": [
      "Fold:  0\n",
      "RMSE:  22.886925750497763\n",
      "{}\n",
      "{}\n"
     ]
    }
   ],
   "source": [
    "kernel = \"matern12\"\n",
    "RS = 0\n",
    "fold = 0\n",
    "!python test_ngpu.py {fold} {kernel} /home/nsgp_group/baselines_bo/final_models/march_nsgp_data/{kernel}_fold_{fold}_random_state_{RS} march_nsgp"
   ]
  },
  {
   "cell_type": "code",
   "execution_count": null,
   "metadata": {},
   "outputs": [
    {
     "name": "stdout",
     "output_type": "stream",
     "text": [
      "['longitude', 'latitude', 'weather', 'temperature', 'humidity', 'wind_speed', 'wind_direction', 'delta_t']\n",
      "Fold:  0\n",
      "Random State:  0\n",
      "Number of devices: 2 -- Kernel partition size: 0\n",
      "100%|█████████████████████████████████████████████| 1/1 [00:03<00:00,  3.31s/it]\n",
      "100%|█████████████████████████████████████████| 400/400 [02:23<00:00,  2.79it/s]\n",
      "Loss:  35.50748062133789\n",
      "RMSE:  22.047243425624018\n"
     ]
    }
   ],
   "source": [
    "# LOCALLY PERIODIC KERNEL\n",
    "for i in range(1):\n",
    "    !python train_ngpu.py 0 local_p {i} {DATA}"
   ]
  },
  {
   "cell_type": "code",
   "execution_count": null,
   "metadata": {
    "collapsed": true
   },
   "outputs": [
    {
     "name": "stdout",
     "output_type": "stream",
     "text": [
      "Fold:  1\n",
      "Random State:  0\n",
      "Number of devices: 2 -- Kernel partition size: 0\n",
      "100%|█████████████████████████████████████████████| 1/1 [00:03<00:00,  3.34s/it]\n",
      "100%|█████████████████████████████████████████| 400/400 [02:25<00:00,  2.75it/s]\n",
      "Loss:  35.15379333496094\n",
      "RMSE:  27.14657898922616\n",
      "Fold:  1\n",
      "Random State:  1\n",
      "Number of devices: 2 -- Kernel partition size: 0\n",
      "100%|█████████████████████████████████████████████| 1/1 [00:03<00:00,  3.48s/it]\n",
      "100%|█████████████████████████████████████████| 400/400 [02:26<00:00,  2.74it/s]\n",
      "Loss:  51.49993133544922\n",
      "RMSE:  26.666307813739582\n",
      "Fold:  1\n",
      "Random State:  2\n",
      "Number of devices: 2 -- Kernel partition size: 0\n",
      "100%|█████████████████████████████████████████████| 1/1 [00:03<00:00,  3.33s/it]\n",
      "100%|█████████████████████████████████████████| 400/400 [02:30<00:00,  2.66it/s]\n",
      "Loss:  44.41213607788086\n",
      "RMSE:  26.6582895510393\n",
      "Fold:  1\n",
      "Random State:  3\n",
      "Number of devices: 2 -- Kernel partition size: 0\n",
      "100%|█████████████████████████████████████████████| 1/1 [00:03<00:00,  3.38s/it]\n",
      "100%|█████████████████████████████████████████| 400/400 [02:27<00:00,  2.70it/s]\n",
      "Loss:  45.4356803894043\n",
      "RMSE:  26.413755022761187\n",
      "Fold:  1\n",
      "Random State:  4\n",
      "Number of devices: 2 -- Kernel partition size: 0\n",
      "100%|█████████████████████████████████████████████| 1/1 [00:03<00:00,  3.31s/it]\n",
      "100%|█████████████████████████████████████████| 400/400 [02:27<00:00,  2.72it/s]\n",
      "Loss:  62.58266830444336\n",
      "RMSE:  26.810530218403862\n"
     ]
    }
   ],
   "source": [
    "for i in range(5):\n",
    "    !python train_ngpu.py 1 local_p {i} {DATA}"
   ]
  },
  {
   "cell_type": "code",
   "execution_count": null,
   "metadata": {},
   "outputs": [
    {
     "name": "stdout",
     "output_type": "stream",
     "text": [
      "Fold:  2\n",
      "Random State:  0\n",
      "Number of devices: 2 -- Kernel partition size: 0\n",
      "100%|█████████████████████████████████████████████| 1/1 [00:03<00:00,  3.70s/it]\n",
      "100%|█████████████████████████████████████████| 400/400 [02:28<00:00,  2.69it/s]\n",
      "Loss:  34.28480529785156\n",
      "RMSE:  24.838663679298914\n"
     ]
    }
   ],
   "source": [
    "for i in range(1):\n",
    "    !python train_ngpu.py 2 local_p {i} {DATA}"
   ]
  },
  {
   "cell_type": "code",
   "execution_count": null,
   "metadata": {},
   "outputs": [
    {
     "name": "stdout",
     "output_type": "stream",
     "text": [
      "Fold:  0\n",
      "Random State:  0\n",
      "Number of devices: 2 -- Kernel partition size: 0\n",
      "100%|█████████████████████████████████████████████| 1/1 [00:03<00:00,  3.32s/it]\n",
      "100%|█████████████████████████████████████████| 400/400 [02:34<00:00,  2.58it/s]\n",
      "Loss:  29.012474060058594\n",
      "RMSE:  22.665243962608265\n"
     ]
    }
   ],
   "source": [
    "# LOCALLY PERIODIC KERNEL with Matern12\n",
    "for i in range(1):\n",
    "    !python train_ngpu.py 0 local_p_matern12 {i} {DATA}"
   ]
  },
  {
   "cell_type": "code",
   "execution_count": null,
   "metadata": {},
   "outputs": [
    {
     "name": "stdout",
     "output_type": "stream",
     "text": [
      "['longitude', 'latitude', 'weather', 'temperature', 'humidity', 'wind_speed', 'wind_direction', 'delta_t']\n",
      "Fold:  1\n",
      "Random State:  0\n",
      "Number of devices: 2 -- Kernel partition size: 0\n",
      "100%|█████████████████████████████████████████████| 1/1 [00:03<00:00,  3.62s/it]\n",
      "100%|█████████████████████████████████████████| 400/400 [02:32<00:00,  2.63it/s]\n",
      "Loss:  29.42738151550293\n",
      "RMSE:  25.300777724021412\n"
     ]
    }
   ],
   "source": [
    "for i in range(1):\n",
    "    !python train_ngpu.py 1 local_p_matern12 {i} {DATA}"
   ]
  },
  {
   "cell_type": "code",
   "execution_count": null,
   "metadata": {
    "scrolled": true
   },
   "outputs": [
    {
     "name": "stdout",
     "output_type": "stream",
     "text": [
      "Fold:  2\n",
      "Random State:  0\n",
      "Number of devices: 2 -- Kernel partition size: 0\n",
      "100%|█████████████████████████████████████████████| 1/1 [00:03<00:00,  3.28s/it]\n",
      "100%|█████████████████████████████████████████| 400/400 [02:35<00:00,  2.57it/s]\n",
      "Loss:  28.327442169189453\n",
      "RMSE:  25.614186786696035\n"
     ]
    }
   ],
   "source": [
    "for i in range(1):\n",
    "    !python train_ngpu.py 2 local_p_matern12 {i} {DATA}"
   ]
  },
  {
   "cell_type": "code",
   "execution_count": null,
   "metadata": {
    "scrolled": true
   },
   "outputs": [
    {
     "name": "stdout",
     "output_type": "stream",
     "text": [
      "['longitude', 'latitude', 'weather', 'temperature', 'humidity', 'wind_speed', 'wind_direction', 'delta_t']\n",
      "Fold:  0\n",
      "RMSE:  22.235481166953427\n"
     ]
    }
   ],
   "source": [
    "kernel = \"matern12\"\n",
    "RS = 0\n",
    "for fold in [0]:\n",
    "    !python test_ngpu.py {fold} {kernel} /home/nsgp_group/baselines_bo/final_models/march_nsgp_data/{kernel}_fold_{fold}_random_state_{RS} march_nsgp"
   ]
  },
  {
   "cell_type": "code",
   "execution_count": null,
   "metadata": {
    "scrolled": true
   },
   "outputs": [
    {
     "name": "stdout",
     "output_type": "stream",
     "text": [
      "Fold:  1\n",
      "Random State:  0\n",
      "Number of devices: 2 -- Kernel partition size: 0\n",
      "100%|█████████████████████████████████████████████| 1/1 [00:03<00:00,  3.41s/it]\n",
      "100%|█████████████████████████████████████████| 400/400 [02:36<00:00,  2.56it/s]\n",
      "Loss:  34.33063507080078\n",
      "RMSE:  27.08063556447951\n",
      "Fold:  1\n",
      "Random State:  1\n",
      "Number of devices: 2 -- Kernel partition size: 0\n",
      "100%|█████████████████████████████████████████████| 1/1 [00:03<00:00,  3.79s/it]\n",
      "100%|█████████████████████████████████████████| 400/400 [02:36<00:00,  2.56it/s]\n",
      "Loss:  55.41059875488281\n",
      "RMSE:  26.472000784492145\n",
      "Fold:  1\n",
      "Random State:  2\n",
      "Number of devices: 2 -- Kernel partition size: 0\n",
      "100%|█████████████████████████████████████████████| 1/1 [00:03<00:00,  3.42s/it]\n",
      "100%|█████████████████████████████████████████| 400/400 [02:36<00:00,  2.56it/s]\n",
      "Loss:  47.88109588623047\n",
      "RMSE:  26.905664428910168\n"
     ]
    }
   ],
   "source": [
    "for i in range(3):\n",
    "    !python train_ngpu.py 1 local_p_with_rbf {i} {DATA}"
   ]
  },
  {
   "cell_type": "code",
   "execution_count": null,
   "metadata": {
    "scrolled": true
   },
   "outputs": [
    {
     "name": "stdout",
     "output_type": "stream",
     "text": [
      "Fold:  2\n",
      "Random State:  0\n",
      "Number of devices: 2 -- Kernel partition size: 0\n",
      "100%|█████████████████████████████████████████████| 1/1 [00:03<00:00,  3.91s/it]\n",
      "100%|█████████████████████████████████████████| 400/400 [02:38<00:00,  2.52it/s]\n",
      "Loss:  33.14033126831055\n",
      "RMSE:  24.86097035648703\n",
      "Fold:  2\n",
      "Random State:  1\n",
      "Number of devices: 2 -- Kernel partition size: 0\n",
      "100%|█████████████████████████████████████████████| 1/1 [00:03<00:00,  3.86s/it]\n",
      "100%|█████████████████████████████████████████| 400/400 [02:37<00:00,  2.54it/s]\n",
      "Loss:  54.99959945678711\n",
      "RMSE:  25.03040928379786\n",
      "Fold:  2\n",
      "Random State:  2\n",
      "Number of devices: 2 -- Kernel partition size: 0\n",
      "100%|█████████████████████████████████████████████| 1/1 [00:03<00:00,  3.33s/it]\n",
      "100%|█████████████████████████████████████████| 400/400 [02:36<00:00,  2.56it/s]\n",
      "Loss:  46.791255950927734\n",
      "RMSE:  24.90465858341698\n"
     ]
    }
   ],
   "source": [
    "for i in range(3):\n",
    "    !python train_ngpu.py 2 local_p_with_rbf {i} {DATA}"
   ]
  },
  {
   "cell_type": "code",
   "execution_count": null,
   "metadata": {
    "collapsed": true
   },
   "outputs": [
    {
     "name": "stdout",
     "output_type": "stream",
     "text": [
      "Fold:  0\n",
      "Random State:  0\n",
      "Number of devices: 2 -- Kernel partition size: 0\n",
      "100%|█████████████████████████████████████████████| 1/1 [00:03<00:00,  3.39s/it]\n",
      "100%|█████████████████████████████████████████| 400/400 [02:45<00:00,  2.42it/s]\n",
      "Loss:  28.90599822998047\n",
      "RMSE:  22.60155159178252\n",
      "Fold:  1\n",
      "Random State:  0\n",
      "Number of devices: 2 -- Kernel partition size: 0\n",
      "100%|█████████████████████████████████████████████| 1/1 [00:03<00:00,  3.37s/it]\n",
      "100%|█████████████████████████████████████████| 400/400 [02:45<00:00,  2.42it/s]\n",
      "Loss:  28.984880447387695\n",
      "RMSE:  24.955686423362916\n",
      "Fold:  2\n",
      "Random State:  0\n",
      "Number of devices: 2 -- Kernel partition size: 0\n",
      "100%|█████████████████████████████████████████████| 1/1 [00:03<00:00,  3.39s/it]\n",
      "100%|█████████████████████████████████████████| 400/400 [02:45<00:00,  2.41it/s]\n",
      "Loss:  27.846054077148438\n",
      "RMSE:  25.26945400952628\n"
     ]
    }
   ],
   "source": [
    "for fold in range(3):\n",
    "    for i in range(1):\n",
    "        !python train_ngpu.py {fold} local_p_with_matern12 {i} {DATA}"
   ]
  },
  {
   "cell_type": "code",
   "execution_count": null,
   "metadata": {
    "collapsed": true
   },
   "outputs": [
    {
     "name": "stdout",
     "output_type": "stream",
     "text": [
      "Fold:  0\n",
      "Random State:  5\n",
      "Number of devices: 2 -- Kernel partition size: 0\n",
      "100%|█████████████████████████████████████████████| 1/1 [00:03<00:00,  3.91s/it]\n",
      "100%|█████████████████████████████████████████| 400/400 [02:46<00:00,  2.40it/s]\n",
      "Loss:  45.038883209228516\n",
      "RMSE:  22.978661861012085\n",
      "Fold:  0\n",
      "Random State:  6\n",
      "Number of devices: 2 -- Kernel partition size: 0\n",
      "100%|█████████████████████████████████████████████| 1/1 [00:03<00:00,  3.36s/it]\n",
      "100%|█████████████████████████████████████████| 400/400 [02:46<00:00,  2.40it/s]\n",
      "Loss:  40.59265899658203\n",
      "RMSE:  22.906740617732225\n",
      "Fold:  1\n",
      "Random State:  5\n",
      "Number of devices: 2 -- Kernel partition size: 0\n",
      "100%|█████████████████████████████████████████████| 1/1 [00:03<00:00,  3.42s/it]\n",
      "100%|█████████████████████████████████████████| 400/400 [02:45<00:00,  2.42it/s]\n",
      "Loss:  44.9982795715332\n",
      "RMSE:  25.189961656136898\n",
      "Fold:  1\n",
      "Random State:  6\n",
      "Number of devices: 2 -- Kernel partition size: 0\n",
      "100%|█████████████████████████████████████████████| 1/1 [00:03<00:00,  3.43s/it]\n",
      "100%|█████████████████████████████████████████| 400/400 [02:45<00:00,  2.42it/s]\n",
      "Loss:  40.341461181640625\n",
      "RMSE:  25.248299567103917\n",
      "Fold:  2\n",
      "Random State:  5\n",
      "Number of devices: 2 -- Kernel partition size: 0\n",
      "100%|█████████████████████████████████████████████| 1/1 [00:03<00:00,  3.86s/it]\n",
      "100%|█████████████████████████████████████████| 400/400 [02:46<00:00,  2.41it/s]\n",
      "Loss:  44.70574188232422\n",
      "RMSE:  25.62362085010108\n",
      "Fold:  2\n",
      "Random State:  6\n",
      "Number of devices: 2 -- Kernel partition size: 0\n",
      "100%|█████████████████████████████████████████████| 1/1 [00:03<00:00,  3.32s/it]\n",
      "100%|█████████████████████████████████████████| 400/400 [02:44<00:00,  2.43it/s]\n",
      "Loss:  39.63458251953125\n",
      "RMSE:  25.272532694093048\n"
     ]
    }
   ],
   "source": [
    "for fold in range(3):\n",
    "    for i in range(5,7):\n",
    "        !python train_ngpu.py {fold} local_p_with_matern12 {i} {DATA}"
   ]
  },
  {
   "cell_type": "code",
   "execution_count": null,
   "metadata": {},
   "outputs": [
    {
     "name": "stdout",
     "output_type": "stream",
     "text": [
      "Fold:  0\n",
      "RMSE:  22.60155159178252\n",
      "Saving to:  final_preds/march_nsgp_data/local_p_with_matern12_fold_0.csv.gz\n"
     ]
    }
   ],
   "source": [
    "kernel = \"local_p_with_matern12\"\n",
    "RS = 0\n",
    "fold = 0\n",
    "!python test_ngpu.py 0 local_p_with_matern12 /home/nsgp_group/baselines_bo/final_models/march_nsgp_data/local_p_with_matern12_fold_0_random_state_0 march_nsgp"
   ]
  }
 ],
 "metadata": {
  "kernelspec": {
   "display_name": "Python 3 (ipykernel)",
   "language": "python",
   "name": "python3"
  },
  "language_info": {
   "codemirror_mode": {
    "name": "ipython",
    "version": 3
   },
   "file_extension": ".py",
   "mimetype": "text/x-python",
   "name": "python",
   "nbconvert_exporter": "python",
   "pygments_lexer": "ipython3",
   "version": "3.9.7"
  }
 },
 "nbformat": 4,
 "nbformat_minor": 2
}
