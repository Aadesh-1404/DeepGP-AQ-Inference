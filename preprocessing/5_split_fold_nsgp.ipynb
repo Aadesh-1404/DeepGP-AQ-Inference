{
 "cells": [
  {
   "cell_type": "code",
   "execution_count": 6,
   "id": "1b5a5b0b",
   "metadata": {},
   "outputs": [],
   "source": [
    "import pandas as pd\n",
    "import numpy as np\n",
    "import matplotlib.pyplot as plt\n",
    "from sklearn.model_selection import KFold\n",
    "from sklearn.metrics import mean_squared_error\n",
    "import warnings\n",
    "from IPython.display import clear_output\n",
    "from multiprocessing import Pool\n",
    "from time import time\n",
    "\n",
    "warnings.filterwarnings(\"ignore\")"
   ]
  },
  {
   "cell_type": "code",
   "execution_count": 7,
   "id": "edf674f9",
   "metadata": {},
   "outputs": [
    {
     "data": {
      "text/html": [
       "<div>\n",
       "<style scoped>\n",
       "    .dataframe tbody tr th:only-of-type {\n",
       "        vertical-align: middle;\n",
       "    }\n",
       "\n",
       "    .dataframe tbody tr th {\n",
       "        vertical-align: top;\n",
       "    }\n",
       "\n",
       "    .dataframe thead th {\n",
       "        text-align: right;\n",
       "    }\n",
       "</style>\n",
       "<table border=\"1\" class=\"dataframe\">\n",
       "  <thead>\n",
       "    <tr style=\"text-align: right;\">\n",
       "      <th></th>\n",
       "      <th>time</th>\n",
       "      <th>station_id</th>\n",
       "      <th>longitude</th>\n",
       "      <th>latitude</th>\n",
       "      <th>PM25_Concentration</th>\n",
       "      <th>weather</th>\n",
       "      <th>temperature</th>\n",
       "      <th>humidity</th>\n",
       "      <th>wind_speed</th>\n",
       "      <th>wind_direction</th>\n",
       "      <th>filled</th>\n",
       "    </tr>\n",
       "  </thead>\n",
       "  <tbody>\n",
       "    <tr>\n",
       "      <th>0</th>\n",
       "      <td>2014-05-01 00:00:00</td>\n",
       "      <td>1002</td>\n",
       "      <td>116.20531</td>\n",
       "      <td>40.00395</td>\n",
       "      <td>89.0</td>\n",
       "      <td>0.0</td>\n",
       "      <td>20.0</td>\n",
       "      <td>56.0</td>\n",
       "      <td>7.92</td>\n",
       "      <td>13.0</td>\n",
       "      <td>False</td>\n",
       "    </tr>\n",
       "    <tr>\n",
       "      <th>1</th>\n",
       "      <td>2014-05-01 01:00:00</td>\n",
       "      <td>1002</td>\n",
       "      <td>116.20531</td>\n",
       "      <td>40.00395</td>\n",
       "      <td>85.0</td>\n",
       "      <td>0.0</td>\n",
       "      <td>18.0</td>\n",
       "      <td>64.0</td>\n",
       "      <td>7.56</td>\n",
       "      <td>13.0</td>\n",
       "      <td>False</td>\n",
       "    </tr>\n",
       "  </tbody>\n",
       "</table>\n",
       "</div>"
      ],
      "text/plain": [
       "                  time  station_id  longitude  latitude  PM25_Concentration  \\\n",
       "0  2014-05-01 00:00:00        1002  116.20531  40.00395                89.0   \n",
       "1  2014-05-01 01:00:00        1002  116.20531  40.00395                85.0   \n",
       "\n",
       "   weather  temperature  humidity  wind_speed  wind_direction  filled  \n",
       "0      0.0         20.0      56.0        7.92            13.0   False  \n",
       "1      0.0         18.0      64.0        7.56            13.0   False  "
      ]
     },
     "metadata": {},
     "output_type": "display_data"
    },
    {
     "data": {
      "text/html": [
       "<div>\n",
       "<style scoped>\n",
       "    .dataframe tbody tr th:only-of-type {\n",
       "        vertical-align: middle;\n",
       "    }\n",
       "\n",
       "    .dataframe tbody tr th {\n",
       "        vertical-align: top;\n",
       "    }\n",
       "\n",
       "    .dataframe thead th {\n",
       "        text-align: right;\n",
       "    }\n",
       "</style>\n",
       "<table border=\"1\" class=\"dataframe\">\n",
       "  <thead>\n",
       "    <tr style=\"text-align: right;\">\n",
       "      <th></th>\n",
       "      <th>time</th>\n",
       "      <th>station_id</th>\n",
       "      <th>longitude</th>\n",
       "      <th>latitude</th>\n",
       "      <th>PM25_Concentration</th>\n",
       "      <th>weather</th>\n",
       "      <th>temperature</th>\n",
       "      <th>humidity</th>\n",
       "      <th>wind_speed</th>\n",
       "      <th>wind_direction</th>\n",
       "      <th>filled</th>\n",
       "    </tr>\n",
       "  </thead>\n",
       "  <tbody>\n",
       "    <tr>\n",
       "      <th>262798</th>\n",
       "      <td>2015-04-30 22:00:00</td>\n",
       "      <td>1036</td>\n",
       "      <td>116.0</td>\n",
       "      <td>39.579999</td>\n",
       "      <td>88.0</td>\n",
       "      <td>5.0</td>\n",
       "      <td>24.4</td>\n",
       "      <td>47.0</td>\n",
       "      <td>2.7</td>\n",
       "      <td>23.0</td>\n",
       "      <td>False</td>\n",
       "    </tr>\n",
       "    <tr>\n",
       "      <th>262799</th>\n",
       "      <td>2015-04-30 23:00:00</td>\n",
       "      <td>1036</td>\n",
       "      <td>116.0</td>\n",
       "      <td>39.579999</td>\n",
       "      <td>88.0</td>\n",
       "      <td>1.0</td>\n",
       "      <td>19.8</td>\n",
       "      <td>72.0</td>\n",
       "      <td>2.6</td>\n",
       "      <td>23.0</td>\n",
       "      <td>True</td>\n",
       "    </tr>\n",
       "  </tbody>\n",
       "</table>\n",
       "</div>"
      ],
      "text/plain": [
       "                       time  station_id  longitude   latitude  \\\n",
       "262798  2015-04-30 22:00:00        1036      116.0  39.579999   \n",
       "262799  2015-04-30 23:00:00        1036      116.0  39.579999   \n",
       "\n",
       "        PM25_Concentration  weather  temperature  humidity  wind_speed  \\\n",
       "262798                88.0      5.0         24.4      47.0         2.7   \n",
       "262799                88.0      1.0         19.8      72.0         2.6   \n",
       "\n",
       "        wind_direction  filled  \n",
       "262798            23.0   False  \n",
       "262799            23.0    True  "
      ]
     },
     "metadata": {},
     "output_type": "display_data"
    }
   ],
   "source": [
    "data = pd.read_csv(\"../data/beijing-18/processed/final_data_mar.csv.gz\")\n",
    "# data = pd.get_dummies(data, columns=['weather', 'wind_direction'])\n",
    "display(data.head(2), data.tail(2))"
   ]
  },
  {
   "cell_type": "code",
   "execution_count": 8,
   "id": "2c28e42f",
   "metadata": {},
   "outputs": [
    {
     "data": {
      "text/plain": [
       "array([1002, 1003, 1004, 1005, 1006, 1007, 1008, 1010, 1011, 1012, 1014,\n",
       "       1016, 1017, 1018, 1019, 1022, 1023, 1024, 1025, 1026, 1027, 1028,\n",
       "       1029, 1030, 1031, 1032, 1033, 1034, 1035, 1036])"
      ]
     },
     "execution_count": 8,
     "metadata": {},
     "output_type": "execute_result"
    }
   ],
   "source": [
    "all_stations = data.station_id.unique()\n",
    "all_stations"
   ]
  },
  {
   "cell_type": "code",
   "execution_count": 9,
   "id": "20fbec85",
   "metadata": {},
   "outputs": [],
   "source": [
    "splitter = KFold(n_splits=3, shuffle=True, random_state=12345)\n",
    "\n",
    "for f_i, (train, test) in enumerate(splitter.split(all_stations)):\n",
    "    train_stations = all_stations[train]\n",
    "    test_stations = all_stations[test]\n",
    "    train_data = data[data.station_id.isin(train_stations)]\n",
    "    test_data = data[data.station_id.isin(test_stations)]\n",
    "\n",
    "    train_data.to_csv(\n",
    "        \"../data/beijing-18/processed/fold_\" + str(f_i) + \"_train_mar_nsgp.csv.gz\",\n",
    "        index=None,\n",
    "    )\n",
    "    test_data.to_csv(\n",
    "        \"../data/beijing-18/processed/fold_\" + str(f_i) + \"_test_mar_nsgp.csv.gz\",\n",
    "        index=None,\n",
    "    )"
   ]
  },
  {
   "cell_type": "markdown",
   "id": "27493d81",
   "metadata": {},
   "source": [
    "### Visualize"
   ]
  },
  {
   "cell_type": "code",
   "execution_count": 10,
   "id": "7113a644",
   "metadata": {},
   "outputs": [
    {
     "data": {
      "image/png": "[encoded data removed]",
      "text/plain": [
       "<Figure size 432x288 with 1 Axes>"
      ]
     },
     "metadata": {
      "needs_background": "light"
     },
     "output_type": "display_data"
    },
    {
     "data": {
      "image/png": "[encoded data removed]",
      "text/plain": [
       "<Figure size 432x288 with 1 Axes>"
      ]
     },
     "metadata": {
      "needs_background": "light"
     },
     "output_type": "display_data"
    },
    {
     "data": {
      "image/png": "[encoded data removed]",
      "text/plain": [
       "<Figure size 432x288 with 1 Axes>"
      ]
     },
     "metadata": {
      "needs_background": "light"
     },
     "output_type": "display_data"
    }
   ],
   "source": [
    "for f_i, (train, test) in enumerate(splitter.split(all_stations)):\n",
    "    train_stations = all_stations[train]\n",
    "    test_stations = all_stations[test]\n",
    "    tmp_trn_df = data[data.station_id.isin(train_stations)].drop_duplicates(\n",
    "        \"station_id\"\n",
    "    )\n",
    "    tmp_tst_df = data[data.station_id.isin(test_stations)].drop_duplicates(\"station_id\")\n",
    "    plt.figure()\n",
    "    plt.title(\"Fold\" + str(f_i))\n",
    "    plt.scatter(tmp_trn_df[\"longitude\"], tmp_trn_df[\"latitude\"], label=\"train\")\n",
    "    plt.scatter(tmp_tst_df[\"longitude\"], tmp_tst_df[\"latitude\"], label=\"test\")\n",
    "    plt.legend(bbox_to_anchor=(1.2, 1))"
   ]
  },
  {
   "cell_type": "code",
   "execution_count": null,
   "id": "833acfe5",
   "metadata": {},
   "outputs": [],
   "source": []
  }
 ],
 "metadata": {
  "kernelspec": {
   "display_name": "Python 3 (ipykernel)",
   "language": "python",
   "name": "python3"
  },
  "language_info": {
   "codemirror_mode": {
    "name": "ipython",
    "version": 3
   },
   "file_extension": ".py",
   "mimetype": "text/x-python",
   "name": "python",
   "nbconvert_exporter": "python",
   "pygments_lexer": "ipython3",
   "version": "3.9.7"
  }
 },
 "nbformat": 4,
 "nbformat_minor": 5
}
