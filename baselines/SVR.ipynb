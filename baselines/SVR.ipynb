{
 "cells": [
  {
   "cell_type": "code",
   "execution_count": 1,
   "metadata": {},
   "outputs": [],
   "source": [
    "import pandas as pd\n",
    "import numpy as np\n",
    "from sklearn.metrics import mean_squared_error, mean_absolute_error, r2_score\n",
    "from sklearn.model_selection import GridSearchCV\n",
    "from sklearn.ensemble import GradientBoostingRegressor\n",
    "from sklearn.preprocessing import StandardScaler\n",
    "from sklearn.preprocessing import MinMaxScaler\n",
    "from time import time\n",
    "import matplotlib.pyplot as plt"
   ]
  },
  {
   "cell_type": "markdown",
   "metadata": {},
   "source": [
    "### Time feature data"
   ]
  },
  {
   "cell_type": "code",
   "execution_count": 2,
   "metadata": {},
   "outputs": [],
   "source": [
    "model = GradientBoostingRegressor()"
   ]
  },
  {
   "cell_type": "code",
   "execution_count": 3,
   "metadata": {},
   "outputs": [],
   "source": [
    "def return_data(fold,month,with_scaling):\n",
    "    train_input = pd.read_csv('../data/beijing-18/time_feature'+'/fold'+str(fold)+'/train_data_'+month+'.csv.gz')\n",
    "    test_input = pd.read_csv('../data/beijing-18/time_feature'+'/fold'+str(fold)+'/test_data_'+month+'.csv.gz')\n",
    "    test_output = np.array(test_input['PM25_Concentration'])\n",
    "    train_output = np.array(train_input['PM25_Concentration'])\n",
    "    train_input= train_input.drop(['station_id','PM25_Concentration','time','filled'],axis=1)\n",
    "    try:\n",
    "        test_input= test_input.drop(['PM25_Concentration','station_id','time','filled'],axis=1)\n",
    "    except:\n",
    "        test_input= test_input.drop(['station_id','time','filled'],axis=1)\n",
    "#     test_output= test_output.drop(['time'],axis=1)\n",
    "    if with_scaling:\n",
    "        scaler = MinMaxScaler().fit(train_input)\n",
    "        train_input = scaler.transform(train_input)\n",
    "        test_input = scaler.transform(test_input)\n",
    "    return train_input,train_output,test_input,test_output\n",
    "\n",
    "def run_model(model,train_input,train_output,test_input,test_output,ret_output):\n",
    "    model.fit(np.array(train_input), train_output)\n",
    "    test_pred = model.predict(np.array(test_input))\n",
    "    err = mean_squared_error(test_pred, test_output, squared=False)\n",
    "    mae = mean_absolute_error(test_pred, test_output)\n",
    "    r2 = r2_score(test_pred, test_output)\n",
    "    if ret_output:\n",
    "        return (err, mae, r2), test_pred\n",
    "    else:\n",
    "        return (err, mae, r2)"
   ]
  },
  {
   "cell_type": "markdown",
   "metadata": {},
   "source": [
    "### With scaling"
   ]
  },
  {
   "cell_type": "code",
   "execution_count": 4,
   "metadata": {},
   "outputs": [],
   "source": [
    "mean_rmse, mean_mae, mean_r2 = 0, 0, 0"
   ]
  },
  {
   "cell_type": "code",
   "execution_count": 5,
   "metadata": {},
   "outputs": [
    {
     "name": "stdout",
     "output_type": "stream",
     "text": [
      "Fold:  0\n",
      "Data received\n",
      "RMSE:  (33.71847447683778, 24.0039490811719, 0.7416072541647367)\n",
      "Time taken:  3.576287031173706\n"
     ]
    },
    {
     "ename": "FileNotFoundError",
     "evalue": "[Errno 2] No such file or directory: '../data/time_feature/fold0/test_data_mar.csv.gz'",
     "output_type": "error",
     "traceback": [
      "\u001b[0;31m---------------------------------------------------------------------------\u001b[0m",
      "\u001b[0;31mFileNotFoundError\u001b[0m                         Traceback (most recent call last)",
      "\u001b[1;32m/home/sachin.yadav/DeepGP-ML-GitHub/baselines/SVR.ipynb Cell 7'\u001b[0m in \u001b[0;36m<module>\u001b[0;34m\u001b[0m\n\u001b[1;32m      <a href='vscode-notebook-cell://ssh-remote%2B7b22686f73744e616d65223a2252616d616e756a616e227d/home/sachin.yadav/DeepGP-ML-GitHub/baselines/SVR.ipynb#ch0000006vscode-remote?line=6'>7</a>\u001b[0m \u001b[39mprint\u001b[39m(\u001b[39m\"\u001b[39m\u001b[39mRMSE: \u001b[39m\u001b[39m\"\u001b[39m,rmse)\n\u001b[1;32m      <a href='vscode-notebook-cell://ssh-remote%2B7b22686f73744e616d65223a2252616d616e756a616e227d/home/sachin.yadav/DeepGP-ML-GitHub/baselines/SVR.ipynb#ch0000006vscode-remote?line=7'>8</a>\u001b[0m \u001b[39mprint\u001b[39m(\u001b[39m\"\u001b[39m\u001b[39mTime taken: \u001b[39m\u001b[39m\"\u001b[39m,time()\u001b[39m-\u001b[39minit)\n\u001b[0;32m----> <a href='vscode-notebook-cell://ssh-remote%2B7b22686f73744e616d65223a2252616d616e756a616e227d/home/sachin.yadav/DeepGP-ML-GitHub/baselines/SVR.ipynb#ch0000006vscode-remote?line=8'>9</a>\u001b[0m test_input \u001b[39m=\u001b[39m pd\u001b[39m.\u001b[39;49mread_csv(\u001b[39m'\u001b[39;49m\u001b[39m../data/time_feature\u001b[39;49m\u001b[39m'\u001b[39;49m\u001b[39m+\u001b[39;49m\u001b[39m'\u001b[39;49m\u001b[39m/fold\u001b[39;49m\u001b[39m'\u001b[39;49m\u001b[39m+\u001b[39;49m\u001b[39mstr\u001b[39;49m(fold)\u001b[39m+\u001b[39;49m\u001b[39m'\u001b[39;49m\u001b[39m/test_data_\u001b[39;49m\u001b[39m'\u001b[39;49m\u001b[39m+\u001b[39;49m\u001b[39m'\u001b[39;49m\u001b[39mmar\u001b[39;49m\u001b[39m'\u001b[39;49m\u001b[39m+\u001b[39;49m\u001b[39m'\u001b[39;49m\u001b[39m.csv.gz\u001b[39;49m\u001b[39m'\u001b[39;49m)\n\u001b[1;32m     <a href='vscode-notebook-cell://ssh-remote%2B7b22686f73744e616d65223a2252616d616e756a616e227d/home/sachin.yadav/DeepGP-ML-GitHub/baselines/SVR.ipynb#ch0000006vscode-remote?line=9'>10</a>\u001b[0m test_input[\u001b[39m'\u001b[39m\u001b[39mprediction\u001b[39m\u001b[39m'\u001b[39m]\u001b[39m=\u001b[39m test_pred\n\u001b[1;32m     <a href='vscode-notebook-cell://ssh-remote%2B7b22686f73744e616d65223a2252616d616e756a616e227d/home/sachin.yadav/DeepGP-ML-GitHub/baselines/SVR.ipynb#ch0000006vscode-remote?line=10'>11</a>\u001b[0m test_input\u001b[39m.\u001b[39mto_csv(\u001b[39m'\u001b[39m\u001b[39m../data/\u001b[39m\u001b[39m'\u001b[39m\u001b[39m+\u001b[39m\u001b[39m'\u001b[39m\u001b[39mresults/results_mar\u001b[39m\u001b[39m'\u001b[39m\u001b[39m+\u001b[39m\u001b[39m'\u001b[39m\u001b[39m/fold\u001b[39m\u001b[39m'\u001b[39m\u001b[39m+\u001b[39m\u001b[39mstr\u001b[39m(fold)\u001b[39m+\u001b[39m\u001b[39m'\u001b[39m\u001b[39m/XGB_scaled.csv.gz\u001b[39m\u001b[39m'\u001b[39m)\n",
      "File \u001b[0;32m~/miniconda3/envs/sachin_env/lib/python3.9/site-packages/pandas/util/_decorators.py:311\u001b[0m, in \u001b[0;36mdeprecate_nonkeyword_arguments.<locals>.decorate.<locals>.wrapper\u001b[0;34m(*args, **kwargs)\u001b[0m\n\u001b[1;32m    <a href='file:///home/sachin.yadav/miniconda3/envs/sachin_env/lib/python3.9/site-packages/pandas/util/_decorators.py?line=304'>305</a>\u001b[0m \u001b[39mif\u001b[39;00m \u001b[39mlen\u001b[39m(args) \u001b[39m>\u001b[39m num_allow_args:\n\u001b[1;32m    <a href='file:///home/sachin.yadav/miniconda3/envs/sachin_env/lib/python3.9/site-packages/pandas/util/_decorators.py?line=305'>306</a>\u001b[0m     warnings\u001b[39m.\u001b[39mwarn(\n\u001b[1;32m    <a href='file:///home/sachin.yadav/miniconda3/envs/sachin_env/lib/python3.9/site-packages/pandas/util/_decorators.py?line=306'>307</a>\u001b[0m         msg\u001b[39m.\u001b[39mformat(arguments\u001b[39m=\u001b[39marguments),\n\u001b[1;32m    <a href='file:///home/sachin.yadav/miniconda3/envs/sachin_env/lib/python3.9/site-packages/pandas/util/_decorators.py?line=307'>308</a>\u001b[0m         \u001b[39mFutureWarning\u001b[39;00m,\n\u001b[1;32m    <a href='file:///home/sachin.yadav/miniconda3/envs/sachin_env/lib/python3.9/site-packages/pandas/util/_decorators.py?line=308'>309</a>\u001b[0m         stacklevel\u001b[39m=\u001b[39mstacklevel,\n\u001b[1;32m    <a href='file:///home/sachin.yadav/miniconda3/envs/sachin_env/lib/python3.9/site-packages/pandas/util/_decorators.py?line=309'>310</a>\u001b[0m     )\n\u001b[0;32m--> <a href='file:///home/sachin.yadav/miniconda3/envs/sachin_env/lib/python3.9/site-packages/pandas/util/_decorators.py?line=310'>311</a>\u001b[0m \u001b[39mreturn\u001b[39;00m func(\u001b[39m*\u001b[39;49margs, \u001b[39m*\u001b[39;49m\u001b[39m*\u001b[39;49mkwargs)\n",
      "File \u001b[0;32m~/miniconda3/envs/sachin_env/lib/python3.9/site-packages/pandas/io/parsers/readers.py:586\u001b[0m, in \u001b[0;36mread_csv\u001b[0;34m(filepath_or_buffer, sep, delimiter, header, names, index_col, usecols, squeeze, prefix, mangle_dupe_cols, dtype, engine, converters, true_values, false_values, skipinitialspace, skiprows, skipfooter, nrows, na_values, keep_default_na, na_filter, verbose, skip_blank_lines, parse_dates, infer_datetime_format, keep_date_col, date_parser, dayfirst, cache_dates, iterator, chunksize, compression, thousands, decimal, lineterminator, quotechar, quoting, doublequote, escapechar, comment, encoding, encoding_errors, dialect, error_bad_lines, warn_bad_lines, on_bad_lines, delim_whitespace, low_memory, memory_map, float_precision, storage_options)\u001b[0m\n\u001b[1;32m    <a href='file:///home/sachin.yadav/miniconda3/envs/sachin_env/lib/python3.9/site-packages/pandas/io/parsers/readers.py?line=570'>571</a>\u001b[0m kwds_defaults \u001b[39m=\u001b[39m _refine_defaults_read(\n\u001b[1;32m    <a href='file:///home/sachin.yadav/miniconda3/envs/sachin_env/lib/python3.9/site-packages/pandas/io/parsers/readers.py?line=571'>572</a>\u001b[0m     dialect,\n\u001b[1;32m    <a href='file:///home/sachin.yadav/miniconda3/envs/sachin_env/lib/python3.9/site-packages/pandas/io/parsers/readers.py?line=572'>573</a>\u001b[0m     delimiter,\n\u001b[0;32m   (...)\u001b[0m\n\u001b[1;32m    <a href='file:///home/sachin.yadav/miniconda3/envs/sachin_env/lib/python3.9/site-packages/pandas/io/parsers/readers.py?line=581'>582</a>\u001b[0m     defaults\u001b[39m=\u001b[39m{\u001b[39m\"\u001b[39m\u001b[39mdelimiter\u001b[39m\u001b[39m\"\u001b[39m: \u001b[39m\"\u001b[39m\u001b[39m,\u001b[39m\u001b[39m\"\u001b[39m},\n\u001b[1;32m    <a href='file:///home/sachin.yadav/miniconda3/envs/sachin_env/lib/python3.9/site-packages/pandas/io/parsers/readers.py?line=582'>583</a>\u001b[0m )\n\u001b[1;32m    <a href='file:///home/sachin.yadav/miniconda3/envs/sachin_env/lib/python3.9/site-packages/pandas/io/parsers/readers.py?line=583'>584</a>\u001b[0m kwds\u001b[39m.\u001b[39mupdate(kwds_defaults)\n\u001b[0;32m--> <a href='file:///home/sachin.yadav/miniconda3/envs/sachin_env/lib/python3.9/site-packages/pandas/io/parsers/readers.py?line=585'>586</a>\u001b[0m \u001b[39mreturn\u001b[39;00m _read(filepath_or_buffer, kwds)\n",
      "File \u001b[0;32m~/miniconda3/envs/sachin_env/lib/python3.9/site-packages/pandas/io/parsers/readers.py:482\u001b[0m, in \u001b[0;36m_read\u001b[0;34m(filepath_or_buffer, kwds)\u001b[0m\n\u001b[1;32m    <a href='file:///home/sachin.yadav/miniconda3/envs/sachin_env/lib/python3.9/site-packages/pandas/io/parsers/readers.py?line=478'>479</a>\u001b[0m _validate_names(kwds\u001b[39m.\u001b[39mget(\u001b[39m\"\u001b[39m\u001b[39mnames\u001b[39m\u001b[39m\"\u001b[39m, \u001b[39mNone\u001b[39;00m))\n\u001b[1;32m    <a href='file:///home/sachin.yadav/miniconda3/envs/sachin_env/lib/python3.9/site-packages/pandas/io/parsers/readers.py?line=480'>481</a>\u001b[0m \u001b[39m# Create the parser.\u001b[39;00m\n\u001b[0;32m--> <a href='file:///home/sachin.yadav/miniconda3/envs/sachin_env/lib/python3.9/site-packages/pandas/io/parsers/readers.py?line=481'>482</a>\u001b[0m parser \u001b[39m=\u001b[39m TextFileReader(filepath_or_buffer, \u001b[39m*\u001b[39;49m\u001b[39m*\u001b[39;49mkwds)\n\u001b[1;32m    <a href='file:///home/sachin.yadav/miniconda3/envs/sachin_env/lib/python3.9/site-packages/pandas/io/parsers/readers.py?line=483'>484</a>\u001b[0m \u001b[39mif\u001b[39;00m chunksize \u001b[39mor\u001b[39;00m iterator:\n\u001b[1;32m    <a href='file:///home/sachin.yadav/miniconda3/envs/sachin_env/lib/python3.9/site-packages/pandas/io/parsers/readers.py?line=484'>485</a>\u001b[0m     \u001b[39mreturn\u001b[39;00m parser\n",
      "File \u001b[0;32m~/miniconda3/envs/sachin_env/lib/python3.9/site-packages/pandas/io/parsers/readers.py:811\u001b[0m, in \u001b[0;36mTextFileReader.__init__\u001b[0;34m(self, f, engine, **kwds)\u001b[0m\n\u001b[1;32m    <a href='file:///home/sachin.yadav/miniconda3/envs/sachin_env/lib/python3.9/site-packages/pandas/io/parsers/readers.py?line=807'>808</a>\u001b[0m \u001b[39mif\u001b[39;00m \u001b[39m\"\u001b[39m\u001b[39mhas_index_names\u001b[39m\u001b[39m\"\u001b[39m \u001b[39min\u001b[39;00m kwds:\n\u001b[1;32m    <a href='file:///home/sachin.yadav/miniconda3/envs/sachin_env/lib/python3.9/site-packages/pandas/io/parsers/readers.py?line=808'>809</a>\u001b[0m     \u001b[39mself\u001b[39m\u001b[39m.\u001b[39moptions[\u001b[39m\"\u001b[39m\u001b[39mhas_index_names\u001b[39m\u001b[39m\"\u001b[39m] \u001b[39m=\u001b[39m kwds[\u001b[39m\"\u001b[39m\u001b[39mhas_index_names\u001b[39m\u001b[39m\"\u001b[39m]\n\u001b[0;32m--> <a href='file:///home/sachin.yadav/miniconda3/envs/sachin_env/lib/python3.9/site-packages/pandas/io/parsers/readers.py?line=810'>811</a>\u001b[0m \u001b[39mself\u001b[39m\u001b[39m.\u001b[39m_engine \u001b[39m=\u001b[39m \u001b[39mself\u001b[39;49m\u001b[39m.\u001b[39;49m_make_engine(\u001b[39mself\u001b[39;49m\u001b[39m.\u001b[39;49mengine)\n",
      "File \u001b[0;32m~/miniconda3/envs/sachin_env/lib/python3.9/site-packages/pandas/io/parsers/readers.py:1040\u001b[0m, in \u001b[0;36mTextFileReader._make_engine\u001b[0;34m(self, engine)\u001b[0m\n\u001b[1;32m   <a href='file:///home/sachin.yadav/miniconda3/envs/sachin_env/lib/python3.9/site-packages/pandas/io/parsers/readers.py?line=1035'>1036</a>\u001b[0m     \u001b[39mraise\u001b[39;00m \u001b[39mValueError\u001b[39;00m(\n\u001b[1;32m   <a href='file:///home/sachin.yadav/miniconda3/envs/sachin_env/lib/python3.9/site-packages/pandas/io/parsers/readers.py?line=1036'>1037</a>\u001b[0m         \u001b[39mf\u001b[39m\u001b[39m\"\u001b[39m\u001b[39mUnknown engine: \u001b[39m\u001b[39m{\u001b[39;00mengine\u001b[39m}\u001b[39;00m\u001b[39m (valid options are \u001b[39m\u001b[39m{\u001b[39;00mmapping\u001b[39m.\u001b[39mkeys()\u001b[39m}\u001b[39;00m\u001b[39m)\u001b[39m\u001b[39m\"\u001b[39m\n\u001b[1;32m   <a href='file:///home/sachin.yadav/miniconda3/envs/sachin_env/lib/python3.9/site-packages/pandas/io/parsers/readers.py?line=1037'>1038</a>\u001b[0m     )\n\u001b[1;32m   <a href='file:///home/sachin.yadav/miniconda3/envs/sachin_env/lib/python3.9/site-packages/pandas/io/parsers/readers.py?line=1038'>1039</a>\u001b[0m \u001b[39m# error: Too many arguments for \"ParserBase\"\u001b[39;00m\n\u001b[0;32m-> <a href='file:///home/sachin.yadav/miniconda3/envs/sachin_env/lib/python3.9/site-packages/pandas/io/parsers/readers.py?line=1039'>1040</a>\u001b[0m \u001b[39mreturn\u001b[39;00m mapping[engine](\u001b[39mself\u001b[39;49m\u001b[39m.\u001b[39;49mf, \u001b[39m*\u001b[39;49m\u001b[39m*\u001b[39;49m\u001b[39mself\u001b[39;49m\u001b[39m.\u001b[39;49moptions)\n",
      "File \u001b[0;32m~/miniconda3/envs/sachin_env/lib/python3.9/site-packages/pandas/io/parsers/c_parser_wrapper.py:51\u001b[0m, in \u001b[0;36mCParserWrapper.__init__\u001b[0;34m(self, src, **kwds)\u001b[0m\n\u001b[1;32m     <a href='file:///home/sachin.yadav/miniconda3/envs/sachin_env/lib/python3.9/site-packages/pandas/io/parsers/c_parser_wrapper.py?line=47'>48</a>\u001b[0m kwds[\u001b[39m\"\u001b[39m\u001b[39musecols\u001b[39m\u001b[39m\"\u001b[39m] \u001b[39m=\u001b[39m \u001b[39mself\u001b[39m\u001b[39m.\u001b[39musecols\n\u001b[1;32m     <a href='file:///home/sachin.yadav/miniconda3/envs/sachin_env/lib/python3.9/site-packages/pandas/io/parsers/c_parser_wrapper.py?line=49'>50</a>\u001b[0m \u001b[39m# open handles\u001b[39;00m\n\u001b[0;32m---> <a href='file:///home/sachin.yadav/miniconda3/envs/sachin_env/lib/python3.9/site-packages/pandas/io/parsers/c_parser_wrapper.py?line=50'>51</a>\u001b[0m \u001b[39mself\u001b[39;49m\u001b[39m.\u001b[39;49m_open_handles(src, kwds)\n\u001b[1;32m     <a href='file:///home/sachin.yadav/miniconda3/envs/sachin_env/lib/python3.9/site-packages/pandas/io/parsers/c_parser_wrapper.py?line=51'>52</a>\u001b[0m \u001b[39massert\u001b[39;00m \u001b[39mself\u001b[39m\u001b[39m.\u001b[39mhandles \u001b[39mis\u001b[39;00m \u001b[39mnot\u001b[39;00m \u001b[39mNone\u001b[39;00m\n\u001b[1;32m     <a href='file:///home/sachin.yadav/miniconda3/envs/sachin_env/lib/python3.9/site-packages/pandas/io/parsers/c_parser_wrapper.py?line=53'>54</a>\u001b[0m \u001b[39m# Have to pass int, would break tests using TextReader directly otherwise :(\u001b[39;00m\n",
      "File \u001b[0;32m~/miniconda3/envs/sachin_env/lib/python3.9/site-packages/pandas/io/parsers/base_parser.py:222\u001b[0m, in \u001b[0;36mParserBase._open_handles\u001b[0;34m(self, src, kwds)\u001b[0m\n\u001b[1;32m    <a href='file:///home/sachin.yadav/miniconda3/envs/sachin_env/lib/python3.9/site-packages/pandas/io/parsers/base_parser.py?line=217'>218</a>\u001b[0m \u001b[39mdef\u001b[39;00m \u001b[39m_open_handles\u001b[39m(\u001b[39mself\u001b[39m, src: FilePathOrBuffer, kwds: \u001b[39mdict\u001b[39m[\u001b[39mstr\u001b[39m, Any]) \u001b[39m-\u001b[39m\u001b[39m>\u001b[39m \u001b[39mNone\u001b[39;00m:\n\u001b[1;32m    <a href='file:///home/sachin.yadav/miniconda3/envs/sachin_env/lib/python3.9/site-packages/pandas/io/parsers/base_parser.py?line=218'>219</a>\u001b[0m     \u001b[39m\"\"\"\u001b[39;00m\n\u001b[1;32m    <a href='file:///home/sachin.yadav/miniconda3/envs/sachin_env/lib/python3.9/site-packages/pandas/io/parsers/base_parser.py?line=219'>220</a>\u001b[0m \u001b[39m    Let the readers open IOHandles after they are done with their potential raises.\u001b[39;00m\n\u001b[1;32m    <a href='file:///home/sachin.yadav/miniconda3/envs/sachin_env/lib/python3.9/site-packages/pandas/io/parsers/base_parser.py?line=220'>221</a>\u001b[0m \u001b[39m    \"\"\"\u001b[39;00m\n\u001b[0;32m--> <a href='file:///home/sachin.yadav/miniconda3/envs/sachin_env/lib/python3.9/site-packages/pandas/io/parsers/base_parser.py?line=221'>222</a>\u001b[0m     \u001b[39mself\u001b[39m\u001b[39m.\u001b[39mhandles \u001b[39m=\u001b[39m get_handle(\n\u001b[1;32m    <a href='file:///home/sachin.yadav/miniconda3/envs/sachin_env/lib/python3.9/site-packages/pandas/io/parsers/base_parser.py?line=222'>223</a>\u001b[0m         src,\n\u001b[1;32m    <a href='file:///home/sachin.yadav/miniconda3/envs/sachin_env/lib/python3.9/site-packages/pandas/io/parsers/base_parser.py?line=223'>224</a>\u001b[0m         \u001b[39m\"\u001b[39;49m\u001b[39mr\u001b[39;49m\u001b[39m\"\u001b[39;49m,\n\u001b[1;32m    <a href='file:///home/sachin.yadav/miniconda3/envs/sachin_env/lib/python3.9/site-packages/pandas/io/parsers/base_parser.py?line=224'>225</a>\u001b[0m         encoding\u001b[39m=\u001b[39;49mkwds\u001b[39m.\u001b[39;49mget(\u001b[39m\"\u001b[39;49m\u001b[39mencoding\u001b[39;49m\u001b[39m\"\u001b[39;49m, \u001b[39mNone\u001b[39;49;00m),\n\u001b[1;32m    <a href='file:///home/sachin.yadav/miniconda3/envs/sachin_env/lib/python3.9/site-packages/pandas/io/parsers/base_parser.py?line=225'>226</a>\u001b[0m         compression\u001b[39m=\u001b[39;49mkwds\u001b[39m.\u001b[39;49mget(\u001b[39m\"\u001b[39;49m\u001b[39mcompression\u001b[39;49m\u001b[39m\"\u001b[39;49m, \u001b[39mNone\u001b[39;49;00m),\n\u001b[1;32m    <a href='file:///home/sachin.yadav/miniconda3/envs/sachin_env/lib/python3.9/site-packages/pandas/io/parsers/base_parser.py?line=226'>227</a>\u001b[0m         memory_map\u001b[39m=\u001b[39;49mkwds\u001b[39m.\u001b[39;49mget(\u001b[39m\"\u001b[39;49m\u001b[39mmemory_map\u001b[39;49m\u001b[39m\"\u001b[39;49m, \u001b[39mFalse\u001b[39;49;00m),\n\u001b[1;32m    <a href='file:///home/sachin.yadav/miniconda3/envs/sachin_env/lib/python3.9/site-packages/pandas/io/parsers/base_parser.py?line=227'>228</a>\u001b[0m         storage_options\u001b[39m=\u001b[39;49mkwds\u001b[39m.\u001b[39;49mget(\u001b[39m\"\u001b[39;49m\u001b[39mstorage_options\u001b[39;49m\u001b[39m\"\u001b[39;49m, \u001b[39mNone\u001b[39;49;00m),\n\u001b[1;32m    <a href='file:///home/sachin.yadav/miniconda3/envs/sachin_env/lib/python3.9/site-packages/pandas/io/parsers/base_parser.py?line=228'>229</a>\u001b[0m         errors\u001b[39m=\u001b[39;49mkwds\u001b[39m.\u001b[39;49mget(\u001b[39m\"\u001b[39;49m\u001b[39mencoding_errors\u001b[39;49m\u001b[39m\"\u001b[39;49m, \u001b[39m\"\u001b[39;49m\u001b[39mstrict\u001b[39;49m\u001b[39m\"\u001b[39;49m),\n\u001b[1;32m    <a href='file:///home/sachin.yadav/miniconda3/envs/sachin_env/lib/python3.9/site-packages/pandas/io/parsers/base_parser.py?line=229'>230</a>\u001b[0m     )\n",
      "File \u001b[0;32m~/miniconda3/envs/sachin_env/lib/python3.9/site-packages/pandas/io/common.py:642\u001b[0m, in \u001b[0;36mget_handle\u001b[0;34m(path_or_buf, mode, encoding, compression, memory_map, is_text, errors, storage_options)\u001b[0m\n\u001b[1;32m    <a href='file:///home/sachin.yadav/miniconda3/envs/sachin_env/lib/python3.9/site-packages/pandas/io/common.py?line=639'>640</a>\u001b[0m \u001b[39mif\u001b[39;00m is_path:\n\u001b[1;32m    <a href='file:///home/sachin.yadav/miniconda3/envs/sachin_env/lib/python3.9/site-packages/pandas/io/common.py?line=640'>641</a>\u001b[0m     \u001b[39massert\u001b[39;00m \u001b[39misinstance\u001b[39m(handle, \u001b[39mstr\u001b[39m)\n\u001b[0;32m--> <a href='file:///home/sachin.yadav/miniconda3/envs/sachin_env/lib/python3.9/site-packages/pandas/io/common.py?line=641'>642</a>\u001b[0m     handle \u001b[39m=\u001b[39m gzip\u001b[39m.\u001b[39;49mGzipFile(\n\u001b[1;32m    <a href='file:///home/sachin.yadav/miniconda3/envs/sachin_env/lib/python3.9/site-packages/pandas/io/common.py?line=642'>643</a>\u001b[0m         filename\u001b[39m=\u001b[39;49mhandle,\n\u001b[1;32m    <a href='file:///home/sachin.yadav/miniconda3/envs/sachin_env/lib/python3.9/site-packages/pandas/io/common.py?line=643'>644</a>\u001b[0m         mode\u001b[39m=\u001b[39;49mioargs\u001b[39m.\u001b[39;49mmode,\n\u001b[1;32m    <a href='file:///home/sachin.yadav/miniconda3/envs/sachin_env/lib/python3.9/site-packages/pandas/io/common.py?line=644'>645</a>\u001b[0m         \u001b[39m*\u001b[39;49m\u001b[39m*\u001b[39;49mcompression_args,\n\u001b[1;32m    <a href='file:///home/sachin.yadav/miniconda3/envs/sachin_env/lib/python3.9/site-packages/pandas/io/common.py?line=645'>646</a>\u001b[0m     )\n\u001b[1;32m    <a href='file:///home/sachin.yadav/miniconda3/envs/sachin_env/lib/python3.9/site-packages/pandas/io/common.py?line=646'>647</a>\u001b[0m \u001b[39melse\u001b[39;00m:\n\u001b[1;32m    <a href='file:///home/sachin.yadav/miniconda3/envs/sachin_env/lib/python3.9/site-packages/pandas/io/common.py?line=647'>648</a>\u001b[0m     handle \u001b[39m=\u001b[39m gzip\u001b[39m.\u001b[39mGzipFile(\n\u001b[1;32m    <a href='file:///home/sachin.yadav/miniconda3/envs/sachin_env/lib/python3.9/site-packages/pandas/io/common.py?line=648'>649</a>\u001b[0m         \u001b[39m# error: Argument \"fileobj\" to \"GzipFile\" has incompatible type\u001b[39;00m\n\u001b[1;32m    <a href='file:///home/sachin.yadav/miniconda3/envs/sachin_env/lib/python3.9/site-packages/pandas/io/common.py?line=649'>650</a>\u001b[0m         \u001b[39m# \"Union[str, Union[IO[Any], RawIOBase, BufferedIOBase, TextIOBase,\u001b[39;00m\n\u001b[0;32m   (...)\u001b[0m\n\u001b[1;32m    <a href='file:///home/sachin.yadav/miniconda3/envs/sachin_env/lib/python3.9/site-packages/pandas/io/common.py?line=653'>654</a>\u001b[0m         \u001b[39m*\u001b[39m\u001b[39m*\u001b[39mcompression_args,\n\u001b[1;32m    <a href='file:///home/sachin.yadav/miniconda3/envs/sachin_env/lib/python3.9/site-packages/pandas/io/common.py?line=654'>655</a>\u001b[0m     )\n",
      "File \u001b[0;32m~/miniconda3/envs/sachin_env/lib/python3.9/gzip.py:173\u001b[0m, in \u001b[0;36mGzipFile.__init__\u001b[0;34m(self, filename, mode, compresslevel, fileobj, mtime)\u001b[0m\n\u001b[1;32m    <a href='file:///home/sachin.yadav/miniconda3/envs/sachin_env/lib/python3.9/gzip.py?line=170'>171</a>\u001b[0m     mode \u001b[39m+\u001b[39m\u001b[39m=\u001b[39m \u001b[39m'\u001b[39m\u001b[39mb\u001b[39m\u001b[39m'\u001b[39m\n\u001b[1;32m    <a href='file:///home/sachin.yadav/miniconda3/envs/sachin_env/lib/python3.9/gzip.py?line=171'>172</a>\u001b[0m \u001b[39mif\u001b[39;00m fileobj \u001b[39mis\u001b[39;00m \u001b[39mNone\u001b[39;00m:\n\u001b[0;32m--> <a href='file:///home/sachin.yadav/miniconda3/envs/sachin_env/lib/python3.9/gzip.py?line=172'>173</a>\u001b[0m     fileobj \u001b[39m=\u001b[39m \u001b[39mself\u001b[39m\u001b[39m.\u001b[39mmyfileobj \u001b[39m=\u001b[39m builtins\u001b[39m.\u001b[39;49mopen(filename, mode \u001b[39mor\u001b[39;49;00m \u001b[39m'\u001b[39;49m\u001b[39mrb\u001b[39;49m\u001b[39m'\u001b[39;49m)\n\u001b[1;32m    <a href='file:///home/sachin.yadav/miniconda3/envs/sachin_env/lib/python3.9/gzip.py?line=173'>174</a>\u001b[0m \u001b[39mif\u001b[39;00m filename \u001b[39mis\u001b[39;00m \u001b[39mNone\u001b[39;00m:\n\u001b[1;32m    <a href='file:///home/sachin.yadav/miniconda3/envs/sachin_env/lib/python3.9/gzip.py?line=174'>175</a>\u001b[0m     filename \u001b[39m=\u001b[39m \u001b[39mgetattr\u001b[39m(fileobj, \u001b[39m'\u001b[39m\u001b[39mname\u001b[39m\u001b[39m'\u001b[39m, \u001b[39m'\u001b[39m\u001b[39m'\u001b[39m)\n",
      "\u001b[0;31mFileNotFoundError\u001b[0m: [Errno 2] No such file or directory: '../data/time_feature/fold0/test_data_mar.csv.gz'"
     ]
    }
   ],
   "source": [
    "for fold in [0,1,2]:\n",
    "    train_input,train_output,test_input,test_output = return_data(fold=fold,month='mar',with_scaling=True)\n",
    "    print(\"Fold: \",fold)\n",
    "    print(\"Data received\")\n",
    "    init = time()\n",
    "    rmse,test_pred = run_model(model,train_input,train_output,test_input,test_output,True)\n",
    "    print(\"RMSE: \",rmse)\n",
    "    print(\"Time taken: \",time()-init)\n",
    "    test_input = pd.read_csv('../data/time_feature'+'/fold'+str(fold)+'/test_data_'+'mar'+'.csv.gz')\n",
    "    test_input['prediction']= test_pred\n",
    "    test_input.to_csv('../data/'+'results/results_mar'+'/fold'+str(fold)+'/XGB_scaled.csv.gz')"
   ]
  }
 ],
 "metadata": {
  "kernelspec": {
   "display_name": "Python 3",
   "language": "python",
   "name": "python3"
  },
  "language_info": {
   "codemirror_mode": {
    "name": "ipython",
    "version": 3
   },
   "file_extension": ".py",
   "mimetype": "text/x-python",
   "name": "python",
   "nbconvert_exporter": "python",
   "pygments_lexer": "ipython3",
   "version": "3.9.7"
  }
 },
 "nbformat": 4,
 "nbformat_minor": 2
}
