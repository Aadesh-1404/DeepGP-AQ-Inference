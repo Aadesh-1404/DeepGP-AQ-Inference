{
 "cells": [
  {
   "cell_type": "code",
   "execution_count": 1,
   "metadata": {},
   "outputs": [],
   "source": [
    "import pandas as pd\n",
    "import numpy as np\n",
    "from polire import IDW\n",
    "from sklearn.metrics import mean_squared_error, mean_absolute_error, r2_score\n",
    "from time import time\n",
    "from sklearn.preprocessing import StandardScaler\n",
    "from sklearn.preprocessing import MinMaxScaler\n",
    "from sklearn.preprocessing import RobustScaler\n",
    "from sklearn.model_selection import GridSearchCV\n",
    "from sklearn.model_selection import cross_val_score\n",
    "from sklearn.model_selection import KFold\n",
    "import matplotlib.pyplot as plt\n",
    "import os"
   ]
  },
  {
   "cell_type": "markdown",
   "metadata": {},
   "source": [
    "### Time feature data"
   ]
  },
  {
   "cell_type": "code",
   "execution_count": 2,
   "metadata": {},
   "outputs": [],
   "source": [
    "def return_data(fold, month, with_scaling):\n",
    "    train_input = pd.read_csv(\n",
    "        \"../data/beijing-18/time_feature\"\n",
    "        + \"/fold\"\n",
    "        + str(fold)\n",
    "        + \"/train_data_\"\n",
    "        + month\n",
    "        + \".csv.gz\"\n",
    "    )\n",
    "    test_input = pd.read_csv(\n",
    "        \"../data/beijing-18/time_feature\"\n",
    "        + \"/fold\"\n",
    "        + str(fold)\n",
    "        + \"/test_data_\"\n",
    "        + month\n",
    "        + \".csv.gz\"\n",
    "    )\n",
    "    test_output = np.array(test_input[\"PM25_Concentration\"])\n",
    "    train_output = np.array(train_input[\"PM25_Concentration\"])\n",
    "    train_input = train_input.drop(\n",
    "        [\"station_id\", \"PM25_Concentration\", \"time\", \"filled\"], axis=1\n",
    "    )\n",
    "    try:\n",
    "        test_input = test_input.drop(\n",
    "            [\"PM25_Concentration\", \"station_id\", \"time\", \"filled\"], axis=1\n",
    "        )\n",
    "    except:\n",
    "        test_input = test_input.drop([\"station_id\", \"time\", \"filled\"], axis=1)\n",
    "    #     test_output= test_output.drop(['time'],axis=1)\n",
    "    if with_scaling:\n",
    "        scaler = MinMaxScaler().fit(train_input)\n",
    "        #         train_input = scaler.transform(train_input)\n",
    "        #         test_input = scaler.transform(test_input)\n",
    "        train_input = pd.DataFrame(\n",
    "            scaler.transform(train_input), columns=list(train_input.columns)\n",
    "        )\n",
    "        test_input = pd.DataFrame(\n",
    "            scaler.transform(test_input), columns=list(test_input.columns)\n",
    "        )\n",
    "    return train_input, train_output, test_input, test_output\n",
    "\n",
    "\n",
    "def run_model(model, train_input, train_output, test_input, test_output, ret_output):\n",
    "    model.fit(np.array(train_input), train_output)\n",
    "    test_pred = model.predict(np.array(test_input))\n",
    "    err = mean_squared_error(test_pred, test_output, squared=False)\n",
    "    mae = mean_absolute_error(test_pred, test_output)\n",
    "    r2 = r2_score(test_pred, test_output)\n",
    "    if ret_output:\n",
    "        return (err, mae, r2), test_pred\n",
    "    else:\n",
    "        return (err, mae, r2)"
   ]
  },
  {
   "cell_type": "code",
   "execution_count": 3,
   "metadata": {},
   "outputs": [],
   "source": [
    "model = IDW(exponent=3)"
   ]
  },
  {
   "cell_type": "markdown",
   "metadata": {},
   "source": [
    "### With scaling"
   ]
  },
  {
   "cell_type": "code",
   "execution_count": 4,
   "metadata": {},
   "outputs": [],
   "source": [
    "mean_rmse, mean_mae, mean_r2 = 0, 0, 0"
   ]
  },
  {
   "cell_type": "code",
   "execution_count": 5,
   "metadata": {},
   "outputs": [
    {
     "name": "stdout",
     "output_type": "stream",
     "text": [
      "Fold:  0\n",
      "Data received\n",
      "RMSE:  48.460955404528\n",
      "MAE:  34.10680153803576\n",
      "R2 score:  -0.15248450639934874\n",
      "Time taken:  11.136359214782715\n",
      "Fold:  1\n",
      "Data received\n",
      "RMSE:  40.27899401697979\n",
      "MAE:  29.245241726873026\n",
      "R2 score:  0.32580534796286775\n",
      "Time taken:  9.49681568145752\n",
      "Fold:  2\n",
      "Data received\n",
      "RMSE:  56.103710046129606\n",
      "MAE:  38.31251828027185\n",
      "R2 score:  -0.819419768988747\n",
      "Time taken:  10.869717836380005\n"
     ]
    }
   ],
   "source": [
    "for fold in [0, 1, 2]:\n",
    "    train_input, train_output, test_input, test_output = return_data(\n",
    "        fold=fold, month=\"mar\", with_scaling=True\n",
    "    )\n",
    "    #     print(train_input,test_input)\n",
    "    print(\"Fold: \", fold)\n",
    "    print(\"Data received\")\n",
    "    init = time()\n",
    "\n",
    "    (rmse, mae, r2), test_pred = run_model(\n",
    "        model, train_input, train_output, test_input, test_output, True\n",
    "    )\n",
    "    print(\"RMSE: \", rmse)\n",
    "    print(\"MAE: \", mae)\n",
    "    print(\"R2 score: \", r2)\n",
    "    print(\"Time taken: \", time() - init)\n",
    "    test_input = pd.read_csv(\n",
    "        \"../data/beijing-18/time_feature\"\n",
    "        + \"/fold\"\n",
    "        + str(fold)\n",
    "        + \"/test_data_\"\n",
    "        + \"mar\"\n",
    "        + \".csv.gz\"\n",
    "    )\n",
    "    test_input[\"prediction\"] = test_pred\n",
    "    if not os.path.exists(\n",
    "        \"../data/beijing-18/\" + \"results/results_mar\" + \"/fold\" + str(fold)\n",
    "    ):\n",
    "        os.makedirs(\"../data/beijing-18/\" + \"results/results_mar\" + \"/fold\" + str(fold))\n",
    "    test_input.to_csv(\n",
    "        \"../data/beijing-18/\"\n",
    "        + \"results/results_mar\"\n",
    "        + \"/fold\"\n",
    "        + str(fold)\n",
    "        + \"/IDW_scaled.csv.gz\"\n",
    "    )\n",
    "\n",
    "    mean_rmse += rmse\n",
    "    mean_mae += mae\n",
    "    mean_r2 += r2"
   ]
  },
  {
   "cell_type": "code",
   "execution_count": 6,
   "metadata": {},
   "outputs": [
    {
     "data": {
      "text/plain": [
       "array([48.28121982, 33.88818718, -0.21536631])"
      ]
     },
     "execution_count": 6,
     "metadata": {},
     "output_type": "execute_result"
    }
   ],
   "source": [
    "np.array([mean_rmse, mean_mae, mean_r2]) / 3"
   ]
  }
 ],
 "metadata": {
  "kernelspec": {
   "display_name": "Python 3",
   "language": "python",
   "name": "python3"
  },
  "language_info": {
   "codemirror_mode": {
    "name": "ipython",
    "version": 3
   },
   "file_extension": ".py",
   "mimetype": "text/x-python",
   "name": "python",
   "nbconvert_exporter": "python",
   "pygments_lexer": "ipython3",
   "version": "3.9.7"
  }
 },
 "nbformat": 4,
 "nbformat_minor": 2
}
