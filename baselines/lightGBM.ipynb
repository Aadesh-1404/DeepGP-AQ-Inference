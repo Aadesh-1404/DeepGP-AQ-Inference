{
 "cells": [
  {
   "cell_type": "code",
   "execution_count": 25,
   "metadata": {},
   "outputs": [],
   "source": [
    "def return_data(fold,month,with_scaling):\n",
    "    train_input = pd.read_csv('../data/beijing-18/time_feature'+'/fold'+str(fold)+'/train_data_'+month+'.csv.gz')\n",
    "    test_input = pd.read_csv('../data/beijing-18/time_feature'+'/fold'+str(fold)+'/test_data_'+month+'.csv.gz')\n",
    "    test_output = np.array(test_input['PM25_Concentration'])\n",
    "    train_output = np.array(train_input['PM25_Concentration'])\n",
    "    train_input= train_input.drop(['station_id','PM25_Concentration','time','filled'],axis=1)\n",
    "    try:\n",
    "        test_input= test_input.drop(['PM25_Concentration','station_id','time','filled'],axis=1)\n",
    "    except:\n",
    "        test_input= test_input.drop(['station_id','time','filled'],axis=1)\n",
    "#     test_output= test_output.drop(['time'],axis=1)\n",
    "    if with_scaling:\n",
    "        scaler = MinMaxScaler().fit(train_input)\n",
    "        train_input = scaler.transform(train_input)\n",
    "        test_input = scaler.transform(test_input)\n",
    "    return train_input,train_output,test_input,test_output\n",
    "\n",
    "def run_model(model,train_input,train_output,test_input,test_output,ret_output):\n",
    "    model.fit(np.array(train_input), train_output)\n",
    "    test_pred = model.predict(np.array(test_input))\n",
    "    err = mean_squared_error(test_pred, test_output, squared=False)\n",
    "    mae = mean_absolute_error(test_pred, test_output)\n",
    "    r2 = r2_score(test_pred, test_output)\n",
    "    if ret_output:\n",
    "        return (err, mae, r2), test_pred\n",
    "    else:\n",
    "        return (err, mae, r2)"
   ]
  },
  {
   "cell_type": "code",
   "execution_count": 26,
   "metadata": {},
   "outputs": [],
   "source": [
    "mean_rmse, mean_mae, mean_r2 = 0, 0, 0"
   ]
  },
  {
   "cell_type": "code",
   "execution_count": 28,
   "metadata": {},
   "outputs": [
    {
     "name": "stdout",
     "output_type": "stream",
     "text": [
      "[LightGBM] [Warning] Auto-choosing col-wise multi-threading, the overhead of testing was 0.000696 seconds.\n",
      "You can set `force_col_wise=true` to remove the overhead.\n",
      "[LightGBM] [Info] Total Bins 822\n",
      "[LightGBM] [Info] Number of data points in the train set: 14880, number of used features: 22\n",
      "[LightGBM] [Info] Start training from score 88.651008\n"
     ]
    }
   ],
   "source": [
    "X_train, y_train, X_test, y_test = return_data(fold = 0, month = \"mar\", with_scaling = False)\n",
    "# X_train, X_val, y_train, y_val = train_test_split(X_train, y_train, test_size = 0.2, random_state = 0)\n",
    "\n",
    "lgb_train = lgb.Dataset(X_train, y_train)\n",
    "\n",
    "gbm = lgb.train({}, lgb_train, 3000, callbacks=[], verbose_eval = 200)"
   ]
  },
  {
   "cell_type": "code",
   "execution_count": 29,
   "metadata": {},
   "outputs": [
    {
     "data": {
      "text/plain": [
       "0"
      ]
     },
     "execution_count": 29,
     "metadata": {},
     "output_type": "execute_result"
    }
   ],
   "source": [
    "gbm.best_iteration"
   ]
  },
  {
   "cell_type": "code",
   "execution_count": 30,
   "metadata": {},
   "outputs": [
    {
     "name": "stdout",
     "output_type": "stream",
     "text": [
      "RMSE:  28.877441820241287\n",
      "MAE:  17.13302233015443\n",
      "R2 score:  0.853380022736713\n"
     ]
    }
   ],
   "source": [
    "y_pred = gbm.predict(X_test, num_iteration=2889)\n",
    "\n",
    "rmse = mean_squared_error(y_pred, y_test, squared = False)\n",
    "mae = mean_absolute_error(y_pred, y_test)\n",
    "r2 = r2_score(y_pred, y_test)\n",
    "\n",
    "print(\"RMSE: \",rmse)\n",
    "print(\"MAE: \",mae)\n",
    "print(\"R2 score: \",r2)\n",
    "mean_rmse += rmse\n",
    "mean_mae += mae\n",
    "mean_r2 += r2"
   ]
  },
  {
   "cell_type": "code",
   "execution_count": 32,
   "metadata": {},
   "outputs": [
    {
     "name": "stdout",
     "output_type": "stream",
     "text": [
      "[LightGBM] [Warning] Auto-choosing col-wise multi-threading, the overhead of testing was 0.090192 seconds.\n",
      "You can set `force_col_wise=true` to remove the overhead.\n",
      "[LightGBM] [Info] Total Bins 822\n",
      "[LightGBM] [Info] Number of data points in the train set: 14880, number of used features: 22\n",
      "[LightGBM] [Info] Start training from score 88.651008\n",
      "RMSE:  28.877441820241287\n",
      "MAE:  17.13302233015443\n",
      "R2 score:  0.853380022736713\n",
      "[LightGBM] [Warning] Auto-choosing col-wise multi-threading, the overhead of testing was 0.000848 seconds.\n",
      "You can set `force_col_wise=true` to remove the overhead.\n",
      "[LightGBM] [Info] Total Bins 819\n",
      "[LightGBM] [Info] Number of data points in the train set: 15624, number of used features: 22\n",
      "[LightGBM] [Info] Start training from score 92.397849\n",
      "RMSE:  26.97994274651366\n",
      "MAE:  16.174745195499895\n",
      "R2 score:  0.8662637407567324\n",
      "[LightGBM] [Warning] Auto-choosing col-wise multi-threading, the overhead of testing was 0.000904 seconds.\n",
      "You can set `force_col_wise=true` to remove the overhead.\n",
      "[LightGBM] [Info] Total Bins 826\n",
      "[LightGBM] [Info] Number of data points in the train set: 14880, number of used features: 22\n",
      "[LightGBM] [Info] Start training from score 86.859476\n",
      "RMSE:  30.486183119643435\n",
      "MAE:  17.08238844521986\n",
      "R2 score:  0.8247855459679081\n"
     ]
    }
   ],
   "source": [
    "for fold in [0, 1, 2]:\n",
    "    X_train, y_train, X_test, y_test = return_data(fold = fold, month = \"mar\", with_scaling = False)\n",
    "    lgb_train = lgb.Dataset(X_train, y_train)\n",
    "    gbm = lgb.train({\"boosting\":\"dart\"}, lgb_train, 3000)\n",
    "    y_pred = gbm.predict(X_test, num_iteration=2889)\n",
    "    \n",
    "    rmse = mean_squared_error(y_pred, y_test, squared = False)\n",
    "    mae = mean_absolute_error(y_pred, y_test)\n",
    "    r2 = r2_score(y_pred, y_test)\n",
    "\n",
    "    print(\"RMSE: \",rmse)\n",
    "    print(\"MAE: \",mae)\n",
    "    print(\"R2 score: \",r2)\n",
    "    mean_rmse += rmse\n",
    "    mean_mae += mae\n",
    "    mean_r2 += r2"
   ]
  },
  {
   "cell_type": "code",
   "execution_count": 33,
   "metadata": {},
   "outputs": [
    {
     "data": {
      "text/plain": [
       "array([38.40700317, 22.5077261 ,  1.13260311])"
      ]
     },
     "execution_count": 33,
     "metadata": {},
     "output_type": "execute_result"
    }
   ],
   "source": [
    "np.array([mean_rmse, mean_mae, mean_r2]) / 3"
   ]
  }
 ],
 "metadata": {
  "kernelspec": {
   "display_name": "Python 3",
   "language": "python",
   "name": "python3"
  },
  "language_info": {
   "codemirror_mode": {
    "name": "ipython",
    "version": 3
   },
   "file_extension": ".py",
   "mimetype": "text/x-python",
   "name": "python",
   "nbconvert_exporter": "python",
   "pygments_lexer": "ipython3",
   "version": "3.9.7"
  }
 },
 "nbformat": 4,
 "nbformat_minor": 2
}
