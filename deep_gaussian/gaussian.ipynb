{
 "cells": [
  {
   "cell_type": "code",
   "execution_count": 1,
   "metadata": {},
   "outputs": [],
   "source": [
    "import math\n",
    "import torch\n",
    "import gpytorch\n",
    "from matplotlib import pyplot as plt\n",
    "from scipy.io import loadmat\n",
    "\n",
    "%matplotlib inline\n",
    "%load_ext autoreload\n",
    "%autoreload 2"
   ]
  },
  {
   "cell_type": "markdown",
   "metadata": {},
   "source": [
    "Data"
   ]
  },
  {
   "cell_type": "code",
   "execution_count": 2,
   "metadata": {},
   "outputs": [],
   "source": [
    "data = torch.tensor(loadmat(\"./elevators.mat\")[\"data\"]).float()\n",
    "X = data[:, :-1]\n",
    "X = X - X.min(axis=0).values\n",
    "X = 2 * (X / X.max(axis=0).values) - 1\n",
    "\n",
    "y = data[:, -1]"
   ]
  },
  {
   "cell_type": "code",
   "execution_count": 3,
   "metadata": {},
   "outputs": [],
   "source": [
    "n_train = int(0.8 * len(X))\n",
    "X_train = X[:n_train].contiguous()\n",
    "X_test = X[n_train:].contiguous()\n",
    "\n",
    "y_train = y[:n_train].contiguous()\n",
    "y_test = y[n_train:].contiguous()"
   ]
  },
  {
   "cell_type": "code",
   "execution_count": 4,
   "metadata": {},
   "outputs": [],
   "source": [
    "from torch.utils.data import TensorDataset, DataLoader\n",
    "train_dataset = TensorDataset(X_train, y_train)\n",
    "train_loader = DataLoader(train_dataset, batch_size=1024, shuffle=True)"
   ]
  },
  {
   "cell_type": "code",
   "execution_count": 5,
   "metadata": {},
   "outputs": [],
   "source": [
    "class ExactGPModel(gpytorch.models.ExactGP):\n",
    "    def __init__(self, train_x, train_y, likelihood):\n",
    "        super(ExactGPModel, self).__init__(train_x, train_y, likelihood)\n",
    "        self.mean_module = gpytorch.means.ConstantMean()\n",
    "        self.covar_module = gpytorch.kernels.ScaleKernel(gpytorch.kernels.RBFKernel())\n",
    "\n",
    "    def forward(self, x):\n",
    "        mean_x = self.mean_module(x)\n",
    "        covar_x = self.covar_module(x)\n",
    "        return gpytorch.distributions.MultivariateNormal(mean_x, covar_x)\n",
    "\n",
    "# initialize likelihood and model\n",
    "likelihood = gpytorch.likelihoods.GaussianLikelihood()\n",
    "model = ExactGPModel(X_train, y_train, likelihood)"
   ]
  },
  {
   "cell_type": "code",
   "execution_count": 6,
   "metadata": {},
   "outputs": [
    {
     "name": "stdout",
     "output_type": "stream",
     "text": [
      "Iter 1/50 - Loss: 0.785   lengthscale: 0.693   noise: 0.693\n",
      "Iter 2/50 - Loss: 0.742   lengthscale: 0.744   noise: 0.644\n",
      "Iter 3/50 - Loss: 0.700   lengthscale: 0.797   noise: 0.598\n",
      "Iter 4/50 - Loss: 0.660   lengthscale: 0.852   noise: 0.554\n",
      "Iter 5/50 - Loss: 0.619   lengthscale: 0.908   noise: 0.513\n",
      "Iter 6/50 - Loss: 0.578   lengthscale: 0.964   noise: 0.474\n",
      "Iter 7/50 - Loss: 0.535   lengthscale: 1.021   noise: 0.437\n",
      "Iter 8/50 - Loss: 0.494   lengthscale: 1.078   noise: 0.403\n",
      "Iter 9/50 - Loss: 0.452   lengthscale: 1.134   noise: 0.370\n",
      "Iter 10/50 - Loss: 0.409   lengthscale: 1.190   noise: 0.340\n",
      "Iter 11/50 - Loss: 0.368   lengthscale: 1.245   noise: 0.312\n",
      "Iter 12/50 - Loss: 0.323   lengthscale: 1.299   noise: 0.285\n",
      "Iter 13/50 - Loss: 0.280   lengthscale: 1.351   noise: 0.261\n",
      "Iter 14/50 - Loss: 0.236   lengthscale: 1.402   noise: 0.239\n",
      "Iter 15/50 - Loss: 0.192   lengthscale: 1.451   noise: 0.218\n",
      "Iter 16/50 - Loss: 0.148   lengthscale: 1.498   noise: 0.198\n",
      "Iter 17/50 - Loss: 0.103   lengthscale: 1.544   noise: 0.181\n",
      "Iter 18/50 - Loss: 0.059   lengthscale: 1.587   noise: 0.164\n",
      "Iter 19/50 - Loss: 0.015   lengthscale: 1.628   noise: 0.149\n",
      "Iter 20/50 - Loss: -0.030   lengthscale: 1.667   noise: 0.136\n",
      "Iter 21/50 - Loss: -0.074   lengthscale: 1.704   noise: 0.123\n",
      "Iter 22/50 - Loss: -0.118   lengthscale: 1.739   noise: 0.112\n",
      "Iter 23/50 - Loss: -0.163   lengthscale: 1.771   noise: 0.101\n",
      "Iter 24/50 - Loss: -0.207   lengthscale: 1.801   noise: 0.092\n",
      "Iter 25/50 - Loss: -0.250   lengthscale: 1.828   noise: 0.083\n",
      "Iter 26/50 - Loss: -0.293   lengthscale: 1.853   noise: 0.075\n",
      "Iter 27/50 - Loss: -0.336   lengthscale: 1.876   noise: 0.068\n",
      "Iter 28/50 - Loss: -0.378   lengthscale: 1.896   noise: 0.062\n",
      "Iter 29/50 - Loss: -0.418   lengthscale: 1.914   noise: 0.056\n",
      "Iter 30/50 - Loss: -0.459   lengthscale: 1.930   noise: 0.051\n",
      "Iter 31/50 - Loss: -0.499   lengthscale: 1.944   noise: 0.046\n",
      "Iter 32/50 - Loss: -0.537   lengthscale: 1.955   noise: 0.042\n",
      "Iter 33/50 - Loss: -0.574   lengthscale: 1.964   noise: 0.038\n",
      "Iter 34/50 - Loss: -0.609   lengthscale: 1.971   noise: 0.034\n",
      "Iter 35/50 - Loss: -0.643   lengthscale: 1.976   noise: 0.031\n",
      "Iter 36/50 - Loss: -0.675   lengthscale: 1.979   noise: 0.028\n",
      "Iter 37/50 - Loss: -0.707   lengthscale: 1.979   noise: 0.026\n",
      "Iter 38/50 - Loss: -0.735   lengthscale: 1.977   noise: 0.023\n",
      "Iter 39/50 - Loss: -0.763   lengthscale: 1.973   noise: 0.021\n",
      "Iter 40/50 - Loss: -0.785   lengthscale: 1.966   noise: 0.020\n",
      "Iter 41/50 - Loss: -0.808   lengthscale: 1.956   noise: 0.018\n",
      "Iter 42/50 - Loss: -0.828   lengthscale: 1.944   noise: 0.016\n",
      "Iter 43/50 - Loss: -0.847   lengthscale: 1.929   noise: 0.015\n",
      "Iter 44/50 - Loss: -0.864   lengthscale: 1.909   noise: 0.014\n",
      "Iter 45/50 - Loss: -0.877   lengthscale: 1.881   noise: 0.013\n",
      "Iter 46/50 - Loss: -0.891   lengthscale: 1.845   noise: 0.012\n",
      "Iter 47/50 - Loss: -0.905   lengthscale: 1.798   noise: 0.011\n",
      "Iter 48/50 - Loss: -0.917   lengthscale: 1.740   noise: 0.010\n",
      "Iter 49/50 - Loss: -0.936   lengthscale: 1.668   noise: 0.010\n",
      "Iter 50/50 - Loss: -0.952   lengthscale: 1.584   noise: 0.009\n"
     ]
    }
   ],
   "source": [
    "import os\n",
    "training_iter = 50\n",
    "\n",
    "\n",
    "# Find optimal model hyperparameters\n",
    "model.train()\n",
    "likelihood.train()\n",
    "\n",
    "# Use the adam optimizer\n",
    "optimizer = torch.optim.Adam(model.parameters(), lr=0.1)  # Includes GaussianLikelihood parameters\n",
    "\n",
    "# \"Loss\" for GPs - the marginal log likelihood\n",
    "mll = gpytorch.mlls.ExactMarginalLogLikelihood(likelihood, model)\n",
    "\n",
    "for i in range(training_iter):\n",
    "    # Zero gradients from previous iteration\n",
    "    optimizer.zero_grad()\n",
    "    # Output from model\n",
    "    output = model(X_train)\n",
    "    # Calc loss and backprop gradients\n",
    "    loss = -mll(output, y_train)\n",
    "    loss.backward()\n",
    "    print('Iter %d/%d - Loss: %.3f   lengthscale: %.3f   noise: %.3f' % (\n",
    "        i + 1, training_iter, loss.item(),\n",
    "        model.covar_module.base_kernel.lengthscale.item(),\n",
    "        model.likelihood.noise.item()\n",
    "    ))\n",
    "    optimizer.step()"
   ]
  },
  {
   "cell_type": "code",
   "execution_count": 7,
   "metadata": {},
   "outputs": [],
   "source": [
    "model.eval()\n",
    "likelihood.eval()\n",
    "\n",
    "# Test points are regularly spaced along [0,1]\n",
    "# Make predictions by feeding model through likelihood\n",
    "with torch.no_grad(), gpytorch.settings.fast_pred_var():\n",
    "    observed_pred = likelihood(model(X_test))"
   ]
  },
  {
   "cell_type": "code",
   "execution_count": 8,
   "metadata": {},
   "outputs": [
    {
     "name": "stdout",
     "output_type": "stream",
     "text": [
      "RMSE: 0.09203086048364639\n"
     ]
    }
   ],
   "source": [
    "rmse = torch.mean(torch.pow(observed_pred.mean - y_test, 2)).sqrt()\n",
    "print(f\"RMSE: {rmse.item()}\")"
   ]
  }
 ],
 "metadata": {
  "interpreter": {
   "hash": "c70e5ee2d2c28a093660d06d1dd4b62023c712f6a8515efc39e65872fc2efeaf"
  },
  "kernelspec": {
   "display_name": "Python 3.9.7 ('sachin_env')",
   "language": "python",
   "name": "python3"
  },
  "language_info": {
   "codemirror_mode": {
    "name": "ipython",
    "version": 3
   },
   "file_extension": ".py",
   "mimetype": "text/x-python",
   "name": "python",
   "nbconvert_exporter": "python",
   "pygments_lexer": "ipython3",
   "version": "3.9.7"
  },
  "orig_nbformat": 4
 },
 "nbformat": 4,
 "nbformat_minor": 2
}
